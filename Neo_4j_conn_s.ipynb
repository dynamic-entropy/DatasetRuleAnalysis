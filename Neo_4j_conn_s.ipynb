{
 "cells": [
  {
   "cell_type": "code",
   "execution_count": 5,
   "id": "84f3c3df",
   "metadata": {},
   "outputs": [],
   "source": [
    "from datetime import datetime"
   ]
  },
  {
   "cell_type": "code",
   "execution_count": 6,
   "id": "6304dd2a",
   "metadata": {},
   "outputs": [],
   "source": [
    "TODAY = datetime.today().strftime('%Y-%m-%d')\n",
    "HDFS_RUCIO_DIDS = f\"/project/awg/cms/rucio/{TODAY}/dids/part*.avro\"\n",
    "HDFS_RUCIO_CONTENTS = f\"/project/awg/cms/rucio/{TODAY}/contents/part*.avro\""
   ]
  },
  {
   "cell_type": "code",
   "execution_count": 7,
   "id": "74746018",
   "metadata": {},
   "outputs": [],
   "source": [
    "def get_df_dids_files(spark):\n",
    "    \"\"\"Create spark dataframe for DIDS table by selecting only Files.\n",
    "\n",
    "    Filters:\n",
    "        - DELETED_AT not null\n",
    "        - HIDDEN = 0\n",
    "        - SCOPE = cms\n",
    "        - DID_TYPE = F\n",
    "\n",
    "    Columns selected:\n",
    "        - file: file name\n",
    "        - fsize_dids: represents size of a file in DIDS table\n",
    "        - accessed_at: file last access time\n",
    "\n",
    "    df_dids_files: All files catalog, their sizes and last access times\n",
    "    \"\"\"\n",
    "    return spark.read.format(\"avro\").load(HDFS_RUCIO_DIDS) \\\n",
    "        .withColumnRenamed(\"BYTES\", \"SIZE\") \\\n",
    "        .select([\"name\", \"scope\", \"account\", \"did_type\", \"is_open\", \"monotonic\", \"availability\", \"size\", \"length\"])\n",
    "\n",
    "\n",
    "\n",
    "\n",
    "def get_df_contents(spark):\n",
    "     return spark.read.format(\"avro\").load(HDFS_RUCIO_CONTENTS) \\\n",
    "        .select([\"name\", \"did_type\", \"child_name\", \"child_type\"])"
   ]
  },
  {
   "cell_type": "code",
   "execution_count": 8,
   "id": "2acf0a28",
   "metadata": {},
   "outputs": [],
   "source": [
    "df_did = get_df_dids_files(spark)"
   ]
  },
  {
   "cell_type": "code",
   "execution_count": 11,
   "id": "ce93d2fd",
   "metadata": {},
   "outputs": [
    {
     "data": {
      "text/html": [
       "<div>\n",
       "<style scoped>\n",
       "    .dataframe tbody tr th:only-of-type {\n",
       "        vertical-align: middle;\n",
       "    }\n",
       "\n",
       "    .dataframe tbody tr th {\n",
       "        vertical-align: top;\n",
       "    }\n",
       "\n",
       "    .dataframe thead th {\n",
       "        text-align: right;\n",
       "    }\n",
       "</style>\n",
       "<table border=\"1\" class=\"dataframe\">\n",
       "  <thead>\n",
       "    <tr style=\"text-align: right;\">\n",
       "      <th></th>\n",
       "      <th>name</th>\n",
       "      <th>scope</th>\n",
       "      <th>account</th>\n",
       "      <th>did_type</th>\n",
       "      <th>is_open</th>\n",
       "      <th>monotonic</th>\n",
       "      <th>availability</th>\n",
       "      <th>size</th>\n",
       "      <th>length</th>\n",
       "    </tr>\n",
       "  </thead>\n",
       "  <tbody>\n",
       "    <tr>\n",
       "      <th>0</th>\n",
       "      <td>/LQLQToTopEl_M-400_TuneCP5_13TeV_pythia8/RunII...</td>\n",
       "      <td>cms</td>\n",
       "      <td>sync_t1_us_fnal_disk</td>\n",
       "      <td>C</td>\n",
       "      <td>1</td>\n",
       "      <td>0</td>\n",
       "      <td>A</td>\n",
       "      <td>None</td>\n",
       "      <td>9</td>\n",
       "    </tr>\n",
       "    <tr>\n",
       "      <th>1</th>\n",
       "      <td>/LQToBMu_M-500_single_TuneCUETP8M1_13TeV-madgr...</td>\n",
       "      <td>cms</td>\n",
       "      <td>sync_t1_us_fnal_disk</td>\n",
       "      <td>D</td>\n",
       "      <td>0</td>\n",
       "      <td>0</td>\n",
       "      <td>A</td>\n",
       "      <td>8325376</td>\n",
       "      <td>1</td>\n",
       "    </tr>\n",
       "  </tbody>\n",
       "</table>\n",
       "</div>"
      ],
      "text/plain": [
       "                                                name scope  \\\n",
       "0  /LQLQToTopEl_M-400_TuneCP5_13TeV_pythia8/RunII...   cms   \n",
       "1  /LQToBMu_M-500_single_TuneCUETP8M1_13TeV-madgr...   cms   \n",
       "\n",
       "                account did_type is_open monotonic availability     size  \\\n",
       "0  sync_t1_us_fnal_disk        C       1         0            A     None   \n",
       "1  sync_t1_us_fnal_disk        D       0         0            A  8325376   \n",
       "\n",
       "  length  \n",
       "0      9  \n",
       "1      1  "
      ]
     },
     "execution_count": 11,
     "metadata": {},
     "output_type": "execute_result"
    }
   ],
   "source": [
    "df_did.limit(2).toPandas()"
   ]
  },
  {
   "cell_type": "code",
   "execution_count": 12,
   "id": "bf59ff81",
   "metadata": {},
   "outputs": [],
   "source": [
    "df_container  = df_did.filter(df_did.did_type == 'C')\n",
    "df_dataset = df_did.filter(df_did.did_type == 'D')\n",
    "df_file = df_did.filter(df_did.did_type == 'F')"
   ]
  },
  {
   "cell_type": "code",
   "execution_count": 15,
   "id": "1973077f",
   "metadata": {},
   "outputs": [],
   "source": [
    "df_contents = get_df_contents(spark)"
   ]
  },
  {
   "cell_type": "code",
   "execution_count": 14,
   "id": "8aacfb7f",
   "metadata": {},
   "outputs": [
    {
     "data": {
      "text/html": [
       "<div>\n",
       "<style scoped>\n",
       "    .dataframe tbody tr th:only-of-type {\n",
       "        vertical-align: middle;\n",
       "    }\n",
       "\n",
       "    .dataframe tbody tr th {\n",
       "        vertical-align: top;\n",
       "    }\n",
       "\n",
       "    .dataframe thead th {\n",
       "        text-align: right;\n",
       "    }\n",
       "</style>\n",
       "<table border=\"1\" class=\"dataframe\">\n",
       "  <thead>\n",
       "    <tr style=\"text-align: right;\">\n",
       "      <th></th>\n",
       "      <th>name</th>\n",
       "      <th>scope</th>\n",
       "      <th>account</th>\n",
       "      <th>did_type</th>\n",
       "      <th>is_open</th>\n",
       "      <th>monotonic</th>\n",
       "      <th>availability</th>\n",
       "      <th>size</th>\n",
       "      <th>length</th>\n",
       "    </tr>\n",
       "  </thead>\n",
       "  <tbody>\n",
       "    <tr>\n",
       "      <th>0</th>\n",
       "      <td>/LQLQToTopEl_M-400_TuneCP5_13TeV_pythia8/RunII...</td>\n",
       "      <td>cms</td>\n",
       "      <td>sync_t1_us_fnal_disk</td>\n",
       "      <td>C</td>\n",
       "      <td>1</td>\n",
       "      <td>0</td>\n",
       "      <td>A</td>\n",
       "      <td>None</td>\n",
       "      <td>9</td>\n",
       "    </tr>\n",
       "    <tr>\n",
       "      <th>1</th>\n",
       "      <td>/LambdabToJpsiSigma1383Phi_BMuonFilter_DGamma0...</td>\n",
       "      <td>cms</td>\n",
       "      <td>sync_t1_us_fnal_disk</td>\n",
       "      <td>C</td>\n",
       "      <td>1</td>\n",
       "      <td>0</td>\n",
       "      <td>A</td>\n",
       "      <td>None</td>\n",
       "      <td>2</td>\n",
       "    </tr>\n",
       "    <tr>\n",
       "      <th>2</th>\n",
       "      <td>/LambdabToJpsiLambdaPhi_BMuonFilter_DGamma0_Tu...</td>\n",
       "      <td>cms</td>\n",
       "      <td>sync_t1_us_fnal_disk</td>\n",
       "      <td>C</td>\n",
       "      <td>1</td>\n",
       "      <td>0</td>\n",
       "      <td>A</td>\n",
       "      <td>None</td>\n",
       "      <td>45</td>\n",
       "    </tr>\n",
       "    <tr>\n",
       "      <th>3</th>\n",
       "      <td>/LQToBMu_M-1800_pair_TuneCUETP8M1_13TeV-madgra...</td>\n",
       "      <td>cms</td>\n",
       "      <td>sync_t1_us_fnal_disk</td>\n",
       "      <td>C</td>\n",
       "      <td>1</td>\n",
       "      <td>0</td>\n",
       "      <td>A</td>\n",
       "      <td>None</td>\n",
       "      <td>3</td>\n",
       "    </tr>\n",
       "    <tr>\n",
       "      <th>4</th>\n",
       "      <td>/LQLQToTopElTopMu_M-1700_TuneCP5_13TeV_pythia8...</td>\n",
       "      <td>cms</td>\n",
       "      <td>sync_t1_us_fnal_disk</td>\n",
       "      <td>C</td>\n",
       "      <td>1</td>\n",
       "      <td>0</td>\n",
       "      <td>A</td>\n",
       "      <td>None</td>\n",
       "      <td>10</td>\n",
       "    </tr>\n",
       "  </tbody>\n",
       "</table>\n",
       "</div>"
      ],
      "text/plain": [
       "                                                name scope  \\\n",
       "0  /LQLQToTopEl_M-400_TuneCP5_13TeV_pythia8/RunII...   cms   \n",
       "1  /LambdabToJpsiSigma1383Phi_BMuonFilter_DGamma0...   cms   \n",
       "2  /LambdabToJpsiLambdaPhi_BMuonFilter_DGamma0_Tu...   cms   \n",
       "3  /LQToBMu_M-1800_pair_TuneCUETP8M1_13TeV-madgra...   cms   \n",
       "4  /LQLQToTopElTopMu_M-1700_TuneCP5_13TeV_pythia8...   cms   \n",
       "\n",
       "                account did_type is_open monotonic availability  size length  \n",
       "0  sync_t1_us_fnal_disk        C       1         0            A  None      9  \n",
       "1  sync_t1_us_fnal_disk        C       1         0            A  None      2  \n",
       "2  sync_t1_us_fnal_disk        C       1         0            A  None     45  \n",
       "3  sync_t1_us_fnal_disk        C       1         0            A  None      3  \n",
       "4  sync_t1_us_fnal_disk        C       1         0            A  None     10  "
      ]
     },
     "execution_count": 14,
     "metadata": {},
     "output_type": "execute_result"
    }
   ],
   "source": [
    "df_1000_container = df_container.limit(1000)"
   ]
  },
  {
   "cell_type": "code",
   "execution_count": 52,
   "id": "9196935f",
   "metadata": {},
   "outputs": [],
   "source": [
    "container_names = [row.name for row in df_1000_container.select('name').collect()]"
   ]
  },
  {
   "cell_type": "code",
   "execution_count": 30,
   "id": "f29cecdd",
   "metadata": {},
   "outputs": [],
   "source": [
    "dataset_names = df_1000_container.join(df_contents, df_1000_container[\"name\"]==df_contents[\"name\"], \"inner\").select('child_name').collect()"
   ]
  },
  {
   "cell_type": "code",
   "execution_count": 38,
   "id": "cbd38878",
   "metadata": {},
   "outputs": [],
   "source": [
    "dataset_names = [row.child_name for row in dataset_names]"
   ]
  },
  {
   "cell_type": "code",
   "execution_count": 39,
   "id": "6099e608",
   "metadata": {},
   "outputs": [],
   "source": [
    "df_1000_datasets = df_dataset.filter(df_did.name.isin(dataset_names))"
   ]
  },
  {
   "cell_type": "code",
   "execution_count": 40,
   "id": "a883cf5e",
   "metadata": {},
   "outputs": [
    {
     "data": {
      "text/html": [
       "<div>\n",
       "<style scoped>\n",
       "    .dataframe tbody tr th:only-of-type {\n",
       "        vertical-align: middle;\n",
       "    }\n",
       "\n",
       "    .dataframe tbody tr th {\n",
       "        vertical-align: top;\n",
       "    }\n",
       "\n",
       "    .dataframe thead th {\n",
       "        text-align: right;\n",
       "    }\n",
       "</style>\n",
       "<table border=\"1\" class=\"dataframe\">\n",
       "  <thead>\n",
       "    <tr style=\"text-align: right;\">\n",
       "      <th></th>\n",
       "      <th>name</th>\n",
       "      <th>scope</th>\n",
       "      <th>account</th>\n",
       "      <th>did_type</th>\n",
       "      <th>is_open</th>\n",
       "      <th>monotonic</th>\n",
       "      <th>availability</th>\n",
       "      <th>size</th>\n",
       "      <th>length</th>\n",
       "    </tr>\n",
       "  </thead>\n",
       "  <tbody>\n",
       "    <tr>\n",
       "      <th>0</th>\n",
       "      <td>/ZPhi_2e_M-20_PS_TuneCP5_madgraph-pythia8/RunI...</td>\n",
       "      <td>cms</td>\n",
       "      <td>wma_prod</td>\n",
       "      <td>D</td>\n",
       "      <td>0</td>\n",
       "      <td>0</td>\n",
       "      <td>A</td>\n",
       "      <td>287594249</td>\n",
       "      <td>1</td>\n",
       "    </tr>\n",
       "    <tr>\n",
       "      <th>1</th>\n",
       "      <td>/ZPhi_2e_M-20_PS_TuneCP5_madgraph-pythia8/RunI...</td>\n",
       "      <td>cms</td>\n",
       "      <td>wma_prod</td>\n",
       "      <td>D</td>\n",
       "      <td>0</td>\n",
       "      <td>0</td>\n",
       "      <td>A</td>\n",
       "      <td>31817302</td>\n",
       "      <td>1</td>\n",
       "    </tr>\n",
       "    <tr>\n",
       "      <th>2</th>\n",
       "      <td>/SinglePiPlusPt30/RunIIFall15DR76-PU25nsData20...</td>\n",
       "      <td>cms</td>\n",
       "      <td>sync_t1_uk_ral_tape</td>\n",
       "      <td>D</td>\n",
       "      <td>0</td>\n",
       "      <td>0</td>\n",
       "      <td>A</td>\n",
       "      <td>1746844579</td>\n",
       "      <td>1</td>\n",
       "    </tr>\n",
       "    <tr>\n",
       "      <th>3</th>\n",
       "      <td>/SeesawTypeIII_SIGMAplusSIGMA0ZH_M-300_13TeV-m...</td>\n",
       "      <td>cms</td>\n",
       "      <td>sync_t1_uk_ral_tape</td>\n",
       "      <td>D</td>\n",
       "      <td>0</td>\n",
       "      <td>0</td>\n",
       "      <td>A</td>\n",
       "      <td>881016579</td>\n",
       "      <td>2</td>\n",
       "    </tr>\n",
       "    <tr>\n",
       "      <th>4</th>\n",
       "      <td>/SeesawTypeIII_SIGMAplusSIGMA0WZ_M-1060_13TeV-...</td>\n",
       "      <td>cms</td>\n",
       "      <td>sync_t1_uk_ral_tape</td>\n",
       "      <td>D</td>\n",
       "      <td>0</td>\n",
       "      <td>0</td>\n",
       "      <td>A</td>\n",
       "      <td>1698070672</td>\n",
       "      <td>1</td>\n",
       "    </tr>\n",
       "  </tbody>\n",
       "</table>\n",
       "</div>"
      ],
      "text/plain": [
       "                                                name scope  \\\n",
       "0  /ZPhi_2e_M-20_PS_TuneCP5_madgraph-pythia8/RunI...   cms   \n",
       "1  /ZPhi_2e_M-20_PS_TuneCP5_madgraph-pythia8/RunI...   cms   \n",
       "2  /SinglePiPlusPt30/RunIIFall15DR76-PU25nsData20...   cms   \n",
       "3  /SeesawTypeIII_SIGMAplusSIGMA0ZH_M-300_13TeV-m...   cms   \n",
       "4  /SeesawTypeIII_SIGMAplusSIGMA0WZ_M-1060_13TeV-...   cms   \n",
       "\n",
       "               account did_type is_open monotonic availability        size  \\\n",
       "0             wma_prod        D       0         0            A   287594249   \n",
       "1             wma_prod        D       0         0            A    31817302   \n",
       "2  sync_t1_uk_ral_tape        D       0         0            A  1746844579   \n",
       "3  sync_t1_uk_ral_tape        D       0         0            A   881016579   \n",
       "4  sync_t1_uk_ral_tape        D       0         0            A  1698070672   \n",
       "\n",
       "  length  \n",
       "0      1  \n",
       "1      1  \n",
       "2      1  \n",
       "3      2  \n",
       "4      1  "
      ]
     },
     "execution_count": 40,
     "metadata": {},
     "output_type": "execute_result"
    }
   ],
   "source": [
    "df_1000_datasets.limit(5).toPandas()"
   ]
  },
  {
   "cell_type": "code",
   "execution_count": 41,
   "id": "d4930b1d",
   "metadata": {},
   "outputs": [
    {
     "name": "stderr",
     "output_type": "stream",
     "text": [
      "22/06/20 08:51:36 WARN DAGScheduler: Broadcasting large task binary with size 3.1 MiB\n"
     ]
    }
   ],
   "source": [
    "file_names = df_1000_datasets.join(df_contents, df_1000_datasets[\"name\"]==df_contents[\"name\"], \"inner\").select('child_name').collect()"
   ]
  },
  {
   "cell_type": "code",
   "execution_count": 42,
   "id": "75c21335",
   "metadata": {},
   "outputs": [
    {
     "data": {
      "text/plain": [
       "['/store/mc/RunIIAutumn18NanoAODv7/GluGluToBulkGravitonToHHTo2B4L_M-1750_narrow_TuneCP5_PSWeights_13TeV-madgraph-pythia8/NANOAODSIM/Nano02Apr2020_102X_upgrade2018_realistic_v21-v1/130000/561B5E76-9671-EB45-897D-3A174F20B3E5.root',\n",
       " '/store/mc/RunIIFall17NanoAODv6/HAHMHToAA_AToGG_MA-60GeV_TuneCP5_PSweights_13TeV-madgraph_pythia8/NANOAODSIM/PU2017_12Apr2018_Nano25Oct2019_102X_mc2017_realistic_v7-v1/120000/173715C3-CE7C-9F45-AB1C-B4C15CFE2992.root',\n",
       " '/store/mc/RunIISummer16MiniAODv3/LQToDEle_M-1400_single_TuneCUETP8M1_13TeV-madgraph-pythia8/MINIAODSIM/PUMoriond17_94X_mcRun2_asymptotic_v3-v1/260000/B2AB3B5A-B3FD-EA11-B54F-001E67DBE435.root',\n",
       " '/store/mc/RunIIFall18GS/ST_t-channel_muDecays_anomwtbLVRT_LV1RT4_13TeV-comphep-pythia8_TuneCP5/GEN-SIM/102X_upgrade2018_realistic_v11-v1/250000/2429D08A-7A5D-4546-9651-8655A1C4E53D.root']"
      ]
     },
     "execution_count": 42,
     "metadata": {},
     "output_type": "execute_result"
    }
   ],
   "source": [
    "file_names = [row.child_name for row in file_names]\n"
   ]
  },
  {
   "cell_type": "code",
   "execution_count": 45,
   "id": "6b4bf094",
   "metadata": {},
   "outputs": [
    {
     "data": {
      "text/plain": [
       "21387"
      ]
     },
     "execution_count": 45,
     "metadata": {},
     "output_type": "execute_result"
    }
   ],
   "source": [
    "len(file_names)"
   ]
  },
  {
   "cell_type": "code",
   "execution_count": 46,
   "id": "b8d0eb97",
   "metadata": {},
   "outputs": [],
   "source": [
    "df_1000_files = df_file.filter(df_file.name.isin(file_names))"
   ]
  },
  {
   "cell_type": "code",
   "execution_count": 47,
   "id": "b1a14065",
   "metadata": {},
   "outputs": [
    {
     "name": "stderr",
     "output_type": "stream",
     "text": [
      "22/06/20 08:56:36 WARN DAGScheduler: Broadcasting large task binary with size 3.5 MiB\n"
     ]
    },
    {
     "data": {
      "text/html": [
       "<div>\n",
       "<style scoped>\n",
       "    .dataframe tbody tr th:only-of-type {\n",
       "        vertical-align: middle;\n",
       "    }\n",
       "\n",
       "    .dataframe tbody tr th {\n",
       "        vertical-align: top;\n",
       "    }\n",
       "\n",
       "    .dataframe thead th {\n",
       "        text-align: right;\n",
       "    }\n",
       "</style>\n",
       "<table border=\"1\" class=\"dataframe\">\n",
       "  <thead>\n",
       "    <tr style=\"text-align: right;\">\n",
       "      <th></th>\n",
       "      <th>name</th>\n",
       "      <th>scope</th>\n",
       "      <th>account</th>\n",
       "      <th>did_type</th>\n",
       "      <th>is_open</th>\n",
       "      <th>monotonic</th>\n",
       "      <th>availability</th>\n",
       "      <th>size</th>\n",
       "      <th>length</th>\n",
       "    </tr>\n",
       "  </thead>\n",
       "  <tbody>\n",
       "    <tr>\n",
       "      <th>0</th>\n",
       "      <td>/store/mc/RunIIFall17NanoAODv6/ZPhi_2e_M-20_PS...</td>\n",
       "      <td>cms</td>\n",
       "      <td>wma_prod</td>\n",
       "      <td>F</td>\n",
       "      <td>None</td>\n",
       "      <td>0</td>\n",
       "      <td>A</td>\n",
       "      <td>287594249</td>\n",
       "      <td>None</td>\n",
       "    </tr>\n",
       "    <tr>\n",
       "      <th>1</th>\n",
       "      <td>/store/mc/RunIIFall17NanoAODv6/ZPhi_2e_M-20_PS...</td>\n",
       "      <td>cms</td>\n",
       "      <td>wma_prod</td>\n",
       "      <td>F</td>\n",
       "      <td>None</td>\n",
       "      <td>0</td>\n",
       "      <td>A</td>\n",
       "      <td>31817302</td>\n",
       "      <td>None</td>\n",
       "    </tr>\n",
       "    <tr>\n",
       "      <th>2</th>\n",
       "      <td>/store/mc/RunIIFall15DR76/SinglePiPlusPt30/AOD...</td>\n",
       "      <td>cms</td>\n",
       "      <td>sync_t1_uk_ral_tape</td>\n",
       "      <td>F</td>\n",
       "      <td>None</td>\n",
       "      <td>0</td>\n",
       "      <td>A</td>\n",
       "      <td>1746844579</td>\n",
       "      <td>None</td>\n",
       "    </tr>\n",
       "    <tr>\n",
       "      <th>3</th>\n",
       "      <td>/store/mc/RunIIWinter15wmLHE/SeesawTypeIII_SIG...</td>\n",
       "      <td>cms</td>\n",
       "      <td>sync_t1_uk_ral_tape</td>\n",
       "      <td>F</td>\n",
       "      <td>None</td>\n",
       "      <td>0</td>\n",
       "      <td>A</td>\n",
       "      <td>386671137</td>\n",
       "      <td>None</td>\n",
       "    </tr>\n",
       "    <tr>\n",
       "      <th>4</th>\n",
       "      <td>/store/mc/RunIISummer16DR80Premix/SeesawTypeII...</td>\n",
       "      <td>cms</td>\n",
       "      <td>sync_t1_uk_ral_tape</td>\n",
       "      <td>F</td>\n",
       "      <td>None</td>\n",
       "      <td>0</td>\n",
       "      <td>A</td>\n",
       "      <td>3215222030</td>\n",
       "      <td>None</td>\n",
       "    </tr>\n",
       "  </tbody>\n",
       "</table>\n",
       "</div>"
      ],
      "text/plain": [
       "                                                name scope  \\\n",
       "0  /store/mc/RunIIFall17NanoAODv6/ZPhi_2e_M-20_PS...   cms   \n",
       "1  /store/mc/RunIIFall17NanoAODv6/ZPhi_2e_M-20_PS...   cms   \n",
       "2  /store/mc/RunIIFall15DR76/SinglePiPlusPt30/AOD...   cms   \n",
       "3  /store/mc/RunIIWinter15wmLHE/SeesawTypeIII_SIG...   cms   \n",
       "4  /store/mc/RunIISummer16DR80Premix/SeesawTypeII...   cms   \n",
       "\n",
       "               account did_type is_open monotonic availability        size  \\\n",
       "0             wma_prod        F    None         0            A   287594249   \n",
       "1             wma_prod        F    None         0            A    31817302   \n",
       "2  sync_t1_uk_ral_tape        F    None         0            A  1746844579   \n",
       "3  sync_t1_uk_ral_tape        F    None         0            A   386671137   \n",
       "4  sync_t1_uk_ral_tape        F    None         0            A  3215222030   \n",
       "\n",
       "  length  \n",
       "0   None  \n",
       "1   None  \n",
       "2   None  \n",
       "3   None  \n",
       "4   None  "
      ]
     },
     "execution_count": 47,
     "metadata": {},
     "output_type": "execute_result"
    }
   ],
   "source": [
    "df_1000_files.limit(5).toPandas()"
   ]
  },
  {
   "cell_type": "code",
   "execution_count": null,
   "id": "879899cc",
   "metadata": {},
   "outputs": [],
   "source": []
  },
  {
   "cell_type": "code",
   "execution_count": null,
   "id": "c6fb8262",
   "metadata": {},
   "outputs": [],
   "source": []
  },
  {
   "cell_type": "code",
   "execution_count": null,
   "id": "06a57b4b",
   "metadata": {},
   "outputs": [],
   "source": []
  },
  {
   "cell_type": "code",
   "execution_count": null,
   "id": "fc06eb2d",
   "metadata": {},
   "outputs": [],
   "source": []
  },
  {
   "cell_type": "code",
   "execution_count": null,
   "id": "98576de1",
   "metadata": {},
   "outputs": [],
   "source": []
  },
  {
   "cell_type": "code",
   "execution_count": null,
   "id": "e9feac7f",
   "metadata": {},
   "outputs": [],
   "source": []
  },
  {
   "cell_type": "code",
   "execution_count": null,
   "id": "b2ccd218",
   "metadata": {},
   "outputs": [],
   "source": []
  },
  {
   "cell_type": "code",
   "execution_count": null,
   "id": "2bb21076",
   "metadata": {},
   "outputs": [],
   "source": []
  },
  {
   "cell_type": "code",
   "execution_count": 48,
   "id": "48e87b09",
   "metadata": {},
   "outputs": [
    {
     "name": "stdout",
     "output_type": "stream",
     "text": [
      "None\n"
     ]
    }
   ],
   "source": [
    "#Write container nodes to neo4j\n",
    "results = df_1000_container.write\\\n",
    "  .format(\"org.neo4j.spark.DataSource\")\\\n",
    "  .mode(\"Overwrite\")\\\n",
    "  .option(\"batch.size\", 500)\\\n",
    "  .option(\"url\", \"bolt://r-neo4j.cern.ch:7687\")\\\n",
    "  .option(\"authentication.type\", \"basic\")\\\n",
    "  .option(\"authentication.basic.username\", \"neo4j\")\\\n",
    "  .option(\"authentication.basic.password\", \"mypass\")\\\n",
    "  .option(\"labels\", \":Container\")\\\n",
    "  .option(\"node.keys\", \"name\")\\\n",
    "  .option(\"schema.optimization.type\", \"INDEX\")\\\n",
    "  .save()\n",
    "\n",
    "print(results)"
   ]
  },
  {
   "cell_type": "code",
   "execution_count": 49,
   "id": "021b377e",
   "metadata": {},
   "outputs": [
    {
     "name": "stdout",
     "output_type": "stream",
     "text": [
      "None\n"
     ]
    }
   ],
   "source": [
    "#Write dataset nodes to neo4j\n",
    "results = df_1000_datasets.write\\\n",
    "  .format(\"org.neo4j.spark.DataSource\")\\\n",
    "  .mode(\"Overwrite\")\\\n",
    "  .option(\"batch.size\", 500)\\\n",
    "  .option(\"url\", \"bolt://r-neo4j.cern.ch:7687\")\\\n",
    "  .option(\"authentication.type\", \"basic\")\\\n",
    "  .option(\"authentication.basic.username\", \"neo4j\")\\\n",
    "  .option(\"authentication.basic.password\", \"mypass\")\\\n",
    "  .option(\"labels\", \":Dataset\")\\\n",
    "  .option(\"node.keys\", \"name\")\\\n",
    "  .option(\"schema.optimization.type\", \"INDEX\")\\\n",
    "  .save()\n",
    "\n",
    "print(results)"
   ]
  },
  {
   "cell_type": "code",
   "execution_count": 51,
   "id": "29e35042",
   "metadata": {},
   "outputs": [
    {
     "name": "stderr",
     "output_type": "stream",
     "text": [
      "22/06/20 09:05:51 WARN DAGScheduler: Broadcasting large task binary with size 3.5 MiB\n"
     ]
    },
    {
     "name": "stdout",
     "output_type": "stream",
     "text": [
      "None\n"
     ]
    }
   ],
   "source": [
    "#Write file nodes to neo4j\n",
    "results = df_1000_files.limit(10000000).write\\\n",
    "  .format(\"org.neo4j.spark.DataSource\")\\\n",
    "  .mode(\"Overwrite\")\\\n",
    "  .option(\"batch.size\", 500)\\\n",
    "  .option(\"url\", \"bolt://r-neo4j.cern.ch:7687\")\\\n",
    "  .option(\"authentication.type\", \"basic\")\\\n",
    "  .option(\"authentication.basic.username\", \"neo4j\")\\\n",
    "  .option(\"authentication.basic.password\", \"mypass\")\\\n",
    "  .option(\"labels\", \":File\")\\\n",
    "  .option(\"node.keys\", \"name\")\\\n",
    "  .option(\"schema.optimization.type\", \"NODE_CONSTRAINTS\")\\\n",
    "  .save()\n",
    "\n",
    "print(results)"
   ]
  },
  {
   "cell_type": "code",
   "execution_count": 82,
   "id": "323b4b00",
   "metadata": {},
   "outputs": [],
   "source": [
    "df_container_dataset_relation_1000 = df_contents\\\n",
    "    .filter(df_contents.name.isin(container_names))\\\n",
    "    .filter(df_contents.did_type=='C')\\\n",
    "    .filter(df_contents.child_type=='D')\\\n",
    "    .select(['name', 'child_name'])\\\n",
    "    .withColumnRenamed(\"name\", \"source.name\")\\\n",
    "    .withColumnRenamed(\"child_name\", \"target.name\")"
   ]
  },
  {
   "cell_type": "code",
   "execution_count": 80,
   "id": "fb9755b5",
   "metadata": {},
   "outputs": [],
   "source": [
    "df_dataset_file_relation_1000 = df_contents\\\n",
    "    .filter(df_contents.name.isin(dataset_names))\\\n",
    "    .filter(df_contents.did_type=='D')\\\n",
    "    .filter(df_contents.child_type=='F')\\\n",
    "    .select(['name', 'child_name'])\\\n",
    "    .withColumnRenamed(\"name\", \"source.name\")\\\n",
    "    .withColumnRenamed(\"child_name\", \"target.name\")"
   ]
  },
  {
   "cell_type": "code",
   "execution_count": 61,
   "id": "ee5a4fda",
   "metadata": {},
   "outputs": [],
   "source": [
    "df_container_container_relation_1000 = df_contents\\\n",
    "    .filter(df_contents.name.isin(container_names))\\\n",
    "    .filter(df_contents.did_type=='C')\\\n",
    "    .filter(df_contents.child_type=='C')\\\n",
    "    .select(['name', 'child_name'])\\\n",
    "    .withColumnRenamed(\"name\", \"source.name\")\\\n",
    "    .withColumnRenamed(\"child_name\", \"target.name\")"
   ]
  },
  {
   "cell_type": "code",
   "execution_count": 75,
   "id": "90f8ede1",
   "metadata": {},
   "outputs": [
    {
     "data": {
      "text/plain": [
       "[Row(source.name='/SMS-T1tbs_RPV_mGluino1700_TuneCUETP8M1_13TeV-madgraphMLM-pythia8/RunIISummer16NanoAODv4-PUMoriond17_Nano14Dec2018_102X_mcRun2_asymptotic_v6_ext1-v1/NANOAODSIM', target.name='/SMS-T1tbs_RPV_mGluino1700_TuneCUETP8M1_13TeV-madgraphMLM-pythia8/RunIISummer16NanoAODv4-PUMoriond17_Nano14Dec2018_102X_mcRun2_asymptotic_v6_ext1-v1/NANOAODSIM#e1cf4e36-36f3-4a0d-b314-5ec8f973a13f'),\n",
       " Row(source.name='/MSSMD_mH_125_mN1_60_mGammaD_35_cT_0p5_TuneCP5_13TeV-madgraph-pythia8/RunIIAutumn18NanoAODv5-Nano1June2019_102X_upgrade2018_realistic_v19-v1/NANOAODSIM', target.name='/MSSMD_mH_125_mN1_60_mGammaD_35_cT_0p5_TuneCP5_13TeV-madgraph-pythia8/RunIIAutumn18NanoAODv5-Nano1June2019_102X_upgrade2018_realistic_v19-v1/NANOAODSIM#e0d930d4-4a19-4ab0-811f-bda0b1b0933d')]"
      ]
     },
     "execution_count": 75,
     "metadata": {},
     "output_type": "execute_result"
    }
   ],
   "source": [
    "df_container_dataset_relation_1000.limit(2).collect()\n"
   ]
  },
  {
   "cell_type": "code",
   "execution_count": 76,
   "id": "0436de6e",
   "metadata": {},
   "outputs": [
    {
     "data": {
      "text/plain": [
       "[Row(source.name='/WprimeToENu_M_1600_TuneCP5_13TeV_pythia8/RunIIFall18GS-102X_upgrade2018_realistic_v11-v1/GEN-SIM#8f4e92bc-29de-49c5-b560-cad593cb23b1', target.name='/store/mc/RunIIFall18GS/WprimeToENu_M_1600_TuneCP5_13TeV_pythia8/GEN-SIM/102X_upgrade2018_realistic_v11-v1/250000/C12BE4B0-C633-BE4B-880F-D4753B0966D7.root'),\n",
       " Row(source.name='/WtoTauNu_TuneP0_7TeV-pythia6-tauola/Fall11-PU_S6_START44_V9B-v1/AODSIM#59e2367e-414a-11e1-93ae-003048f02c8a', target.name='/store/mc/Fall11/WtoTauNu_TuneP0_7TeV-pythia6-tauola/AODSIM/PU_S6_START44_V9B-v1/0000/263BF9AC-2441-E111-9A75-003048D4DFA6.root')]"
      ]
     },
     "execution_count": 76,
     "metadata": {},
     "output_type": "execute_result"
    }
   ],
   "source": [
    "df_dataset_file_relation_1000.limit(2).collect()\n"
   ]
  },
  {
   "cell_type": "code",
   "execution_count": 77,
   "id": "42588823",
   "metadata": {},
   "outputs": [
    {
     "data": {
      "text/plain": [
       "[]"
      ]
     },
     "execution_count": 77,
     "metadata": {},
     "output_type": "execute_result"
    }
   ],
   "source": [
    "df_container_container_relation_1000.limit(2).collect()"
   ]
  },
  {
   "cell_type": "code",
   "execution_count": null,
   "id": "ff7390b5",
   "metadata": {},
   "outputs": [],
   "source": []
  },
  {
   "cell_type": "code",
   "execution_count": null,
   "id": "123e710d",
   "metadata": {},
   "outputs": [],
   "source": []
  },
  {
   "cell_type": "code",
   "execution_count": null,
   "id": "c42abb7d",
   "metadata": {},
   "outputs": [],
   "source": [
    "#Writing CONSISTS_OF relation"
   ]
  },
  {
   "cell_type": "code",
   "execution_count": 9,
   "id": "957d3657",
   "metadata": {},
   "outputs": [],
   "source": [
    "df_contents = get_df_contents(spark)"
   ]
  },
  {
   "cell_type": "code",
   "execution_count": 10,
   "id": "90749156",
   "metadata": {},
   "outputs": [],
   "source": [
    "# df_container_dataset_relation = df_contents.filter(df_contents.did_type=='C').filter(df_contents.child_type=='D').select(['name', 'child_name']).withColumnRenamed(\"name\", \"source.name\").withColumnRenamed(\"child_name\", \"target.name\")\n",
    "# df_dataset_file_relation = df_contents.filter(df_contents.did_type=='D').filter(df_contents.child_type=='F').select(['name', 'child_name']).withColumnRenamed(\"name\", \"source.name\").withColumnRenamed(\"child_name\", \"target.name\")\n",
    "# df_container_container_relation = df_contents.filter(df_contents.did_type=='C').filter(df_contents.child_type=='C').select(['name', 'child_name']).withColumnRenamed(\"name\", \"source.name\").withColumnRenamed(\"child_name\", \"target.name\")"
   ]
  },
  {
   "cell_type": "code",
   "execution_count": 58,
   "id": "2ada1847",
   "metadata": {},
   "outputs": [
    {
     "name": "stdout",
     "output_type": "stream",
     "text": [
      "df_container_dataset_relation.count()=34624\n",
      "df_dataset_file_relation.count()=21387\n",
      "df_container_container_relation.count()=0\n"
     ]
    }
   ],
   "source": [
    "print(f'{df_container_dataset_relation_1000.count()=}')\n",
    "print(f'{df_dataset_file_relation_1000.count()=}')\n",
    "print(f'{df_container_container_relation_1000.count()=}')"
   ]
  },
  {
   "cell_type": "code",
   "execution_count": 84,
   "id": "4e47158d",
   "metadata": {
    "scrolled": true
   },
   "outputs": [],
   "source": [
    "# initial_executors = spark.conf.get(\"spark.dynamicAllocation.maxExecutors\")\n",
    "# spark.conf.set(\"spark.dynamicAllocation.maxExecutors\", 1)\n",
    "df_container_dataset_relation_1000.write\\\n",
    "  .format(\"org.neo4j.spark.DataSource\")\\\n",
    "  .mode(\"Overwrite\")\\\n",
    "  .option(\"url\", \"bolt://r-neo4j.cern.ch:7687\")\\\n",
    "  .option(\"authentication.type\", \"basic\")\\\n",
    "  .option(\"authentication.basic.username\", \"neo4j\")\\\n",
    "  .option(\"authentication.basic.password\", \"mypass\")\\\n",
    "  .option(\"relationship\", \"CONSISTS_OF_DATASET\")\\\n",
    "  .option(\"relationship.source.labels\", \":Container\")\\\n",
    "  .option(\"relationship.source.save.mode\", \"Overwrite\")\\\n",
    "  .option(\"relationship.source.node.keys\", \"source.name:name\")\\\n",
    "  .option(\"relationship.target.labels\", \":Dataset\")\\\n",
    "  .option(\"relationship.target.save.mode\", \"Overwrite\")\\\n",
    "  .option(\"relationship.target.node.keys\", \"target.name:name\")\\\n",
    "  .save()\n",
    "\n",
    "# spark.conf.set(\"spark.dynamicAllocation.maxExecutors\", initial_executors)"
   ]
  },
  {
   "cell_type": "code",
   "execution_count": 66,
   "id": "6e554ba8",
   "metadata": {},
   "outputs": [],
   "source": [
    "# df_container_container_relation_1000.write\\\n",
    "#   .format(\"org.neo4j.spark.DataSource\")\\\n",
    "#   .mode(\"Overwrite\")\\\n",
    "#   .option(\"url\", \"bolt://r-neo4j.cern.ch:7687\")\\\n",
    "#   .option(\"authentication.type\", \"basic\")\\\n",
    "#   .option(\"authentication.basic.username\", \"neo4j\")\\\n",
    "#   .option(\"authentication.basic.password\", \"mypass\")\\\n",
    "#   .option(\"relationship\", \"CONSISTS_OF\")\\\n",
    "#   .option(\"relationship.source.labels\", \":Container\")\\\n",
    "#   .option(\"relationship.source.save.mode\", \"Overwrite\")\\\n",
    "#   .option(\"relationship.source.node.keys\", \"source.name:name\")\\\n",
    "#   .option(\"relationship.target.labels\", \":Container\")\\\n",
    "#   .option(\"relationship.target.save.mode\", \"Overwrite\")\\\n",
    "#   .option(\"relationship.target.node.keys\", \"target.name:name\")\\\n",
    "#   .save()"
   ]
  },
  {
   "cell_type": "code",
   "execution_count": null,
   "id": "e25a7832",
   "metadata": {},
   "outputs": [],
   "source": [
    "df_dataset_file_relation_1000.write\\\n",
    "  .format(\"org.neo4j.spark.DataSource\")\\\n",
    "  .mode(\"Overwrite\")\\\n",
    "  .option(\"url\", \"bolt://r-neo4j.cern.ch:7687\")\\\n",
    "  .option(\"authentication.type\", \"basic\")\\\n",
    "  .option(\"authentication.basic.username\", \"neo4j\")\\\n",
    "  .option(\"authentication.basic.password\", \"mypass\")\\\n",
    "  .option(\"relationship\", \"CONSISTS_OF_FILE\")\\\n",
    "  .option(\"relationship.source.labels\", \":Dataset\")\\\n",
    "  .option(\"relationship.source.save.mode\", \"Overwrite\")\\\n",
    "  .option(\"relationship.source.node.keys\", \"source.name:name\")\\\n",
    "  .option(\"relationship.target.labels\", \":File\")\\\n",
    "  .option(\"relationship.target.save.mode\", \"Overwrite\")\\\n",
    "  .option(\"relationship.target.node.keys\", \"target.name:name\")\\\n",
    "  .save()"
   ]
  },
  {
   "cell_type": "code",
   "execution_count": null,
   "id": "54925a7d",
   "metadata": {},
   "outputs": [],
   "source": []
  },
  {
   "cell_type": "code",
   "execution_count": null,
   "id": "412d9918",
   "metadata": {},
   "outputs": [],
   "source": []
  },
  {
   "cell_type": "code",
   "execution_count": 5,
   "id": "b79fa0ff",
   "metadata": {},
   "outputs": [
    {
     "name": "stderr",
     "output_type": "stream",
     "text": [
      "22/06/19 12:56:20 WARN SchemaService: Switching to query schema resolution\n"
     ]
    }
   ],
   "source": [
    "df = spark.read.format(\"org.neo4j.spark.DataSource\")\\\n",
    "  .option(\"url\", \"bolt://rahul-neo4j.cern.ch:7687\")\\\n",
    "  .option(\"authentication.basic.username\", \"neo4j\")\\\n",
    "  .option(\"authentication.basic.password\", \"mypass\")\\\n",
    "  .option(\"labels\", \"Person\")\\\n",
    "  .load()"
   ]
  },
  {
   "cell_type": "code",
   "execution_count": 6,
   "id": "55c04a28",
   "metadata": {},
   "outputs": [
    {
     "name": "stdout",
     "output_type": "stream",
     "text": [
      "+----+--------+------+---+\n",
      "|<id>|<labels>|  name| id|\n",
      "+----+--------+------+---+\n",
      "|   0|[Person]|  John|  1|\n",
      "|   1|[Person]|Thomas|  2|\n",
      "+----+--------+------+---+\n",
      "\n"
     ]
    }
   ],
   "source": [
    "df.show()"
   ]
  },
  {
   "cell_type": "code",
   "execution_count": 23,
   "id": "193928e2",
   "metadata": {},
   "outputs": [],
   "source": [
    "df = spark.createDataFrame(\n",
    " [(1, \"John\"),(2, \"Thomas\")],\n",
    " [\"id\", \"name\"]\n",
    ")"
   ]
  },
  {
   "cell_type": "code",
   "execution_count": 25,
   "id": "eb4c801b",
   "metadata": {},
   "outputs": [
    {
     "data": {
      "text/html": [
       "<div>\n",
       "<style scoped>\n",
       "    .dataframe tbody tr th:only-of-type {\n",
       "        vertical-align: middle;\n",
       "    }\n",
       "\n",
       "    .dataframe tbody tr th {\n",
       "        vertical-align: top;\n",
       "    }\n",
       "\n",
       "    .dataframe thead th {\n",
       "        text-align: right;\n",
       "    }\n",
       "</style>\n",
       "<table border=\"1\" class=\"dataframe\">\n",
       "  <thead>\n",
       "    <tr style=\"text-align: right;\">\n",
       "      <th></th>\n",
       "      <th>id</th>\n",
       "      <th>name</th>\n",
       "    </tr>\n",
       "  </thead>\n",
       "  <tbody>\n",
       "    <tr>\n",
       "      <th>0</th>\n",
       "      <td>1</td>\n",
       "      <td>John</td>\n",
       "    </tr>\n",
       "    <tr>\n",
       "      <th>1</th>\n",
       "      <td>2</td>\n",
       "      <td>Thomas</td>\n",
       "    </tr>\n",
       "  </tbody>\n",
       "</table>\n",
       "</div>"
      ],
      "text/plain": [
       "   id    name\n",
       "0   1    John\n",
       "1   2  Thomas"
      ]
     },
     "execution_count": 25,
     "metadata": {},
     "output_type": "execute_result"
    }
   ],
   "source": [
    "df.toPandas()"
   ]
  },
  {
   "cell_type": "code",
   "execution_count": 4,
   "id": "4f258ed9",
   "metadata": {},
   "outputs": [],
   "source": [
    "df.write\\\n",
    "  .format(\"org.neo4j.spark.DataSource\")\\\n",
    "  .mode(\"Append\")\\\n",
    "  .option(\"url\", \"bolt://rahul-neo4j.cern.ch:7687\")\\\n",
    "  .option(\"authentication.type\", \"basic\")\\\n",
    "  .option(\"authentication.basic.username\", \"neo4j\")\\\n",
    "  .option(\"authentication.basic.password\", \"mypass\")\\\n",
    "  .option(\"labels\", \":Person\")\\\n",
    "  .save()"
   ]
  },
  {
   "cell_type": "code",
   "execution_count": null,
   "id": "5a58a22f",
   "metadata": {},
   "outputs": [],
   "source": [
    "spark.sparkContext.version"
   ]
  },
  {
   "cell_type": "code",
   "execution_count": null,
   "id": "e4cecbff",
   "metadata": {},
   "outputs": [],
   "source": []
  },
  {
   "cell_type": "code",
   "execution_count": null,
   "id": "006a4523",
   "metadata": {},
   "outputs": [],
   "source": []
  }
 ],
 "metadata": {
  "kernelspec": {
   "display_name": "Python 3",
   "language": "python",
   "name": "python3"
  },
  "language_info": {
   "codemirror_mode": {
    "name": "ipython",
    "version": 3
   },
   "file_extension": ".py",
   "mimetype": "text/x-python",
   "name": "python",
   "nbconvert_exporter": "python",
   "pygments_lexer": "ipython3",
   "version": "3.9.12"
  },
  "sparkconnect": {
   "bundled_options": [],
   "list_of_options": [
    {
     "name": "spark.jars",
     "value": "neo4j-connector-apache-spark_2.12-4.1.2_for_spark_3.jar"
    },
    {
     "name": "spark.jars.packages",
     "value": "org.apache.spark:spark-avro_2.12:3.0.1"
    }
   ]
  }
 },
 "nbformat": 4,
 "nbformat_minor": 5
}
