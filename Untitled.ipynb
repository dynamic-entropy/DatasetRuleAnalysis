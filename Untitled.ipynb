{
 "cells": [
  {
   "cell_type": "code",
   "execution_count": 1,
   "id": "d0a6767c",
   "metadata": {},
   "outputs": [],
   "source": [
    "from datetime import datetime\n",
    "\n",
    "import click\n",
    "import pandas as pd\n",
    "from pyspark import SparkContext\n",
    "from pyspark.sql import SparkSession\n",
    "from pyspark.sql.functions import (\n",
    "    col, collect_list, collect_set, concat_ws, first, format_number, from_unixtime, greatest, lit, lower, when,\n",
    "    avg as _avg,\n",
    "    count as _count,\n",
    "    hex as _hex,\n",
    "    max as _max,\n",
    "    min as _min,\n",
    "    round as _round,\n",
    "    split as _split,\n",
    "    sum as _sum,\n",
    ")\n",
    "\n",
    "from pyspark.sql.types import (\n",
    "    LongType,\n",
    "    DecimalType\n",
    ")"
   ]
  },
  {
   "cell_type": "code",
   "execution_count": 2,
   "id": "e1b830bc",
   "metadata": {},
   "outputs": [],
   "source": [
    "import pandas as pd\n",
    "import pyspark.sql.functions as func"
   ]
  },
  {
   "cell_type": "code",
   "execution_count": 3,
   "id": "288a034b",
   "metadata": {},
   "outputs": [],
   "source": [
    "TODAY = datetime.today().strftime('%Y-%m-%d')\n",
    "\n",
    "HDFS_RUCIO_LOCKS = f\"/project/awg/cms/rucio/{TODAY}/locks/part*.avro\"\n",
    "HDFS_RUCIO_RSES = f'/tmp/cmsmonit/rucio_daily_stats-{TODAY}/RSES/part*.avro'\n",
    "HDFS_RUCIO_CONTENTS = f\"/project/awg/cms/rucio/{TODAY}/contents/part*.avro\"\n",
    "HDFS_RUCIO_RULES = f\"/project/awg/cms/rucio/{TODAY}/rules/part*.avro\""
   ]
  },
  {
   "cell_type": "code",
   "execution_count": 4,
   "id": "5215dc04",
   "metadata": {},
   "outputs": [],
   "source": [
    "#Pandas options to not truncate columns \n",
    "pd.options.display.float_format = '{:,.2f}'.format\n",
    "pd.set_option('display.max_columns', None)\n",
    "pd.set_option('max_colwidth', None)\n",
    "pd.set_option('max_rows', None)"
   ]
  },
  {
   "cell_type": "code",
   "execution_count": 5,
   "id": "bc70ce9d",
   "metadata": {},
   "outputs": [],
   "source": [
    "def get_df_locks(spark):\n",
    "    return spark.read.format('avro').load(HDFS_RUCIO_LOCKS) \\\n",
    "        .withColumn('rse_id', lower(_hex(col('RSE_ID')))) \\\n",
    "        .withColumn('rule_id', lower(_hex(col('RULE_ID')))) \\\n",
    "        .withColumn('file_size', col('BYTES').cast(LongType())) \\\n",
    "        .withColumnRenamed('NAME', 'file_name') \\\n",
    "        .select(['file_name', 'rse_id', 'rule_id', 'account', 'file_size'])\n",
    "\n",
    "\n",
    "def get_df_rses(spark):\n",
    "    df_rses = spark.read.format(\"com.databricks.spark.avro\").load(HDFS_RUCIO_RSES) \\\n",
    "        .filter(col('DELETED_AT').isNull()) \\\n",
    "        .withColumn('id', lower(_hex(col('ID')))) \\\n",
    "        .withColumn('rse_tier', _split(col('RSE'), '_').getItem(0)) \\\n",
    "        .withColumn('rse_country', _split(col('RSE'), '_').getItem(1)) \\\n",
    "        .withColumn('rse_kind',\n",
    "                    when((col(\"rse\").endswith('Temp') | col(\"rse\").endswith('temp') | col(\"rse\").endswith('TEMP')),\n",
    "                         'temp')\n",
    "                    .when((col(\"rse\").endswith('Test') | col(\"rse\").endswith('test') | col(\"rse\").endswith('TEST')),\n",
    "                          'test')\n",
    "                    .otherwise('prod')\n",
    "                    ) \\\n",
    "        .withColumnRenamed('id', 'rse_id') \\\n",
    "        .withColumnRenamed('RSE', 'rse_name') \\\n",
    "        .withColumnRenamed('RSE_TYPE', 'rse_type') \\\n",
    "        .select(['rse_id', 'rse_name', 'rse_type', 'rse_tier', 'rse_country', 'rse_kind'])\n",
    "    return df_rses\n",
    "\n",
    "\n",
    "def get_df_contents(spark):\n",
    "    return spark.read.format('avro').load(HDFS_RUCIO_CONTENTS) \\\n",
    "        .filter(col(\"scope\")==\"cms\")\\\n",
    "        .select(['name', 'child_name', 'did_type', 'child_type'])\n",
    "\n",
    "\n",
    "#TODO: Do we need to consider replicating rules here?\n",
    "def get_df_rules(spark):\n",
    "    return spark.read.format(\"avro\").load(HDFS_RUCIO_RULES)\\\n",
    "        .filter(col('state')=='O') \\\n",
    "        .withColumn(\"rule_id\", lower(_hex(col(\"id\")))) \\\n",
    "        .select([\"rule_id\", \"account\", \"did_type\", \"rse_expression\", \"copies\"])"
   ]
  },
  {
   "cell_type": "code",
   "execution_count": 6,
   "id": "6601e079",
   "metadata": {},
   "outputs": [],
   "source": [
    "#get actual dataset names here\n",
    "#We drop the datasets names with /CONTAINER - these are created for data transfer challenges and deletion campaigns\n",
    "# If needed we deal with them separately\n",
    "def get_dataset_file_map(spark):\n",
    "    df_contents = get_df_contents(spark)\n",
    "    \n",
    "    block_file_map = df_contents.filter(col(\"child_type\")==\"F\")\\\n",
    "                                  .filter(col(\"name\").endswith(\"#DATASET\")==False)\\\n",
    "                                  .filter(col(\"name\").endswith(\"#DATASET2\")==False)\\\n",
    "                                  .withColumnRenamed(\"child_name\", \"file\")\\\n",
    "                                  .withColumnRenamed(\"name\", \"block\")\n",
    "                                 \n",
    "        \n",
    "    dataset_block_map = df_contents.filter(col(\"child_type\")==\"D\")\\\n",
    "                                  .filter(col(\"name\").endswith(\"/CONTAINER\")==False)\\\n",
    "                                  .withColumnRenamed(\"child_name\", \"block\")\\\n",
    "                                  .withColumnRenamed(\"name\", \"dataset\")\n",
    "        \n",
    "    #we do a right join to capture files that do not map to a dataset\n",
    "    #later we club these files in a Unknown Container category\n",
    "    dataset_file_map = dataset_block_map.alias(\"dbm\").join(block_file_map.alias(\"bfm\"), col(\"dbm.block\")==col(\"bfm.block\"), \"right\")\\\n",
    "                                  .na.fill({\"dataset\":\"/UnknownDataset\"})\\\n",
    "                                  .withColumn(\"data_tier\", func.element_at(func.split(\"dataset\",\"/\"),-1))\\\n",
    "                                  .select([\"dataset\", \"bfm.block\", \"bfm.file\", \"data_tier\"])\n",
    "    \n",
    "    #We are creating some dummy datasets here (derived from block names), to get data_tier info for files as much as possible\n",
    "#     df_dataset_file_map = df_contents_file\\\n",
    "#                                 .withColumn(\"dataset\", func.element_at(func.split(\"name\",\"#\"),1))\\\n",
    "#                                 .withColumn(\"data_tier\", func.element_at(func.split(\"dataset\",\"/\"),-1))\\\n",
    "#                                 .select([\"file\", \"dataset\", \"data_tier\"])\n",
    "        \n",
    "    return dataset_file_map\n",
    "                                "
   ]
  },
  {
   "cell_type": "code",
   "execution_count": 7,
   "id": "6ca0b527",
   "metadata": {},
   "outputs": [],
   "source": [
    "df_map = get_dataset_file_map(spark)\n",
    "df_locks = get_df_locks(spark)\n",
    "df_rses = get_df_rses(spark)\n",
    "df_rules = get_df_rules(spark)"
   ]
  },
  {
   "cell_type": "markdown",
   "id": "db93b11f",
   "metadata": {},
   "source": [
    "# Child Table\n",
    "#### Rules and their associated metrics with the mentioned rse  (and dataset? - TODO)"
   ]
  },
  {
   "cell_type": "markdown",
   "id": "51d5f135",
   "metadata": {},
   "source": [
    "- Get a rule - rse - file relation (i.e locks table)\n",
    "     1. collect - rses for that rule\n",
    "     2. sum file size for that rule\n",
    "     3. sum file size at just that rse"
   ]
  },
  {
   "cell_type": "code",
   "execution_count": 8,
   "id": "01f5fea6",
   "metadata": {},
   "outputs": [
    {
     "data": {
      "text/html": [
       "<div>\n",
       "<style scoped>\n",
       "    .dataframe tbody tr th:only-of-type {\n",
       "        vertical-align: middle;\n",
       "    }\n",
       "\n",
       "    .dataframe tbody tr th {\n",
       "        vertical-align: top;\n",
       "    }\n",
       "\n",
       "    .dataframe thead th {\n",
       "        text-align: right;\n",
       "    }\n",
       "</style>\n",
       "<table border=\"1\" class=\"dataframe\">\n",
       "  <thead>\n",
       "    <tr style=\"text-align: right;\">\n",
       "      <th></th>\n",
       "      <th>file_name</th>\n",
       "      <th>rse_id</th>\n",
       "      <th>rule_id</th>\n",
       "      <th>account</th>\n",
       "      <th>file_size</th>\n",
       "    </tr>\n",
       "  </thead>\n",
       "  <tbody>\n",
       "    <tr>\n",
       "      <th>0</th>\n",
       "      <td>/store/mc/Run3Summer21DRPremix/DYToLL_M-50_TuneCP5_14TeV-pythia8/GEN-SIM-DIGI-RAW/120X_mcRun3_2021_realistic_v6-v2/80011/9757e58e-e12e-4e98-97f9-131b206bee10.root</td>\n",
       "      <td>f44c866a264d4da9972969e9f3b5bb52</td>\n",
       "      <td>13b62f7b9d0840ec8288d2b060bd0ea3</td>\n",
       "      <td>wmcore_output</td>\n",
       "      <td>3098398779</td>\n",
       "    </tr>\n",
       "    <tr>\n",
       "      <th>1</th>\n",
       "      <td>/store/mc/RunIISummer16NanoAODv6/ST_FCNC-TH_Thadronic_HToaa_Ctcphi_CP5_13TeV-mcatnlo-madspin-pythia8/NANOAODSIM/PUMoriond17_Nano25Oct2019_102X_mcRun2_asymptotic_v7-v1/2810000/B1F4A0C2-96CB-284C-BC89-8B9C02DFA654.root</td>\n",
       "      <td>751eb808adf54eada3be77dd40c9c399</td>\n",
       "      <td>e9de5a667a254d5fb33218a038aa17a3</td>\n",
       "      <td>transfer_ops</td>\n",
       "      <td>2855979699</td>\n",
       "    </tr>\n",
       "    <tr>\n",
       "      <th>2</th>\n",
       "      <td>/store/mc/RunIISummer16NanoAODv5/GluGluToBulkGravitonToHHTo4B_M-300_narrow_13TeV-madgraph/NANOAODSIM/PUMoriond17_Nano1June2019_102X_mcRun2_asymptotic_v7-v1/250000/93D8DE1D-29CD-F54F-8367-204A172436AA.root</td>\n",
       "      <td>5175b9ddaed0484cbe9678c9cd260d28</td>\n",
       "      <td>edb0cf2bccc64955a654e17e884a57ef</td>\n",
       "      <td>transfer_ops</td>\n",
       "      <td>12667642</td>\n",
       "    </tr>\n",
       "    <tr>\n",
       "      <th>3</th>\n",
       "      <td>/store/mc/RunIIFall17NanoAODv5/GluGluToBulkGravitonToHHTo2B2G_M-2500_narrow_TuneCP5_13TeV-madgraph-pythia8_correctedcfg/NANOAODSIM/PU2017_12Apr2018_Nano1June2019_102X_mc2017_realistic_v7-v1/00000/50253EB9-DDDA-4847-91B9-1E078022F112.root</td>\n",
       "      <td>be0c1696016e4297a1573425d4a9b0a6</td>\n",
       "      <td>500d1410ded24c3ba04d8a71b5b4f57f</td>\n",
       "      <td>transfer_ops</td>\n",
       "      <td>22292601</td>\n",
       "    </tr>\n",
       "    <tr>\n",
       "      <th>4</th>\n",
       "      <td>/store/mc/RunIIAutumn18NanoAODv5/ST_t-channel_top_4f_InclusiveDecays_TuneCP5down_13TeV-powheg-madspin-pythia8/NANOAODSIM/Nano1June2019_102X_upgrade2018_realistic_v19-v1/250000/FAEE0636-0E8D-D94C-9152-C3B0AAAC0113.root</td>\n",
       "      <td>16eef8c8359d47c985c5cc48dd1a1a56</td>\n",
       "      <td>575967e1fc1746fcbe54cc7ccbbff9e4</td>\n",
       "      <td>transfer_ops</td>\n",
       "      <td>1596499945</td>\n",
       "    </tr>\n",
       "  </tbody>\n",
       "</table>\n",
       "</div>"
      ],
      "text/plain": [
       "                                                                                                                                                                                                                                       file_name  \\\n",
       "0                                                                             /store/mc/Run3Summer21DRPremix/DYToLL_M-50_TuneCP5_14TeV-pythia8/GEN-SIM-DIGI-RAW/120X_mcRun3_2021_realistic_v6-v2/80011/9757e58e-e12e-4e98-97f9-131b206bee10.root   \n",
       "1                       /store/mc/RunIISummer16NanoAODv6/ST_FCNC-TH_Thadronic_HToaa_Ctcphi_CP5_13TeV-mcatnlo-madspin-pythia8/NANOAODSIM/PUMoriond17_Nano25Oct2019_102X_mcRun2_asymptotic_v7-v1/2810000/B1F4A0C2-96CB-284C-BC89-8B9C02DFA654.root   \n",
       "2                                   /store/mc/RunIISummer16NanoAODv5/GluGluToBulkGravitonToHHTo4B_M-300_narrow_13TeV-madgraph/NANOAODSIM/PUMoriond17_Nano1June2019_102X_mcRun2_asymptotic_v7-v1/250000/93D8DE1D-29CD-F54F-8367-204A172436AA.root   \n",
       "3  /store/mc/RunIIFall17NanoAODv5/GluGluToBulkGravitonToHHTo2B2G_M-2500_narrow_TuneCP5_13TeV-madgraph-pythia8_correctedcfg/NANOAODSIM/PU2017_12Apr2018_Nano1June2019_102X_mc2017_realistic_v7-v1/00000/50253EB9-DDDA-4847-91B9-1E078022F112.root   \n",
       "4                      /store/mc/RunIIAutumn18NanoAODv5/ST_t-channel_top_4f_InclusiveDecays_TuneCP5down_13TeV-powheg-madspin-pythia8/NANOAODSIM/Nano1June2019_102X_upgrade2018_realistic_v19-v1/250000/FAEE0636-0E8D-D94C-9152-C3B0AAAC0113.root   \n",
       "\n",
       "                             rse_id                           rule_id  \\\n",
       "0  f44c866a264d4da9972969e9f3b5bb52  13b62f7b9d0840ec8288d2b060bd0ea3   \n",
       "1  751eb808adf54eada3be77dd40c9c399  e9de5a667a254d5fb33218a038aa17a3   \n",
       "2  5175b9ddaed0484cbe9678c9cd260d28  edb0cf2bccc64955a654e17e884a57ef   \n",
       "3  be0c1696016e4297a1573425d4a9b0a6  500d1410ded24c3ba04d8a71b5b4f57f   \n",
       "4  16eef8c8359d47c985c5cc48dd1a1a56  575967e1fc1746fcbe54cc7ccbbff9e4   \n",
       "\n",
       "         account   file_size  \n",
       "0  wmcore_output  3098398779  \n",
       "1   transfer_ops  2855979699  \n",
       "2   transfer_ops    12667642  \n",
       "3   transfer_ops    22292601  \n",
       "4   transfer_ops  1596499945  "
      ]
     },
     "execution_count": 8,
     "metadata": {},
     "output_type": "execute_result"
    }
   ],
   "source": [
    "df_locks.limit(5).toPandas()"
   ]
  },
  {
   "cell_type": "code",
   "execution_count": 9,
   "id": "20221e7e",
   "metadata": {},
   "outputs": [],
   "source": [
    "df_locks_r = df_locks.join(df_rses.alias(\"rse\"), df_rses[\"rse_id\"]==df_locks[\"rse_id\"]).select(['file_name', 'rse.rse_id', 'rule_id', 'file_size', 'rse_name'])\n"
   ]
  },
  {
   "cell_type": "code",
   "execution_count": 10,
   "id": "5b9df48a",
   "metadata": {},
   "outputs": [],
   "source": [
    "rule_rse_map = df_locks_r.alias(\"locks1\")\\\n",
    "                        .groupby(\"rule_id\")\\\n",
    "                        .agg(func.sum(\"file_size\").alias(\"size_locked_total\"),\n",
    "                             func.countDistinct(\"rse_name\").alias(\"count_rses\"),\n",
    "                             collect_set(\"rse_name\").alias(\"other_rses\"),\n",
    "                            )"
   ]
  },
  {
   "cell_type": "code",
   "execution_count": 11,
   "id": "a33db3d2",
   "metadata": {},
   "outputs": [],
   "source": [
    "rule_size_rse = df_locks_r.alias(\"locks1\")\\\n",
    "                        .groupby([\"rse_name\", \"rule_id\"])\\\n",
    "                        .agg(func.sum(\"file_size\").alias(\"size_locked_rse\"))"
   ]
  },
  {
   "cell_type": "code",
   "execution_count": 12,
   "id": "0701c655",
   "metadata": {},
   "outputs": [],
   "source": [
    "df_rule_agg_info = rule_rse_map.join(rule_size_rse, \"rule_id\")\n",
    "# .withColumn(\"other_rses\", concat_ws(\", \", \"other_rses\"))"
   ]
  },
  {
   "cell_type": "code",
   "execution_count": 13,
   "id": "00bdca39",
   "metadata": {},
   "outputs": [],
   "source": [
    "# df_other_rses = df_locks.alias(\"lock1\").join(df_locks.alias(\"lock\"), col(\"map.file\")==col(\"lock.file_name\"), \"right\")\\\n",
    "#     .na.fill({\"dataset\":\"/UnknownBlock\", \"block\":\"/UnknownBlock#unknown\", \"data_tier\":\"UnknownBlock\"})\\\n",
    "#     .filter(col(\"data_tier\").isin([\"UnknownBlock\", \"UnknownDataset\"])==False)\\\n",
    "#     .groupby([\"dataset\", \"rse_id\", \"data_tier\"])\\\n",
    "#     .agg(func.countDistinct(\"file_name\").alias(\"distinct_file_count\"), func.count(\"file_name\").alias(\"file_count\"), func.sum(\"file_size\").alias(\"file_sum\"),\n",
    "#          func.countDistinct(\"rule_id\").alias(\"distinct_ruleid_count\"), collect_set(\"rule_id\").alias(\"ruleid_set\"),\n",
    "#          func.countDistinct(\"account\").alias(\"distinct_account_count\"), collect_set(\"account\").alias(\"account_set\"),\n",
    "#         )"
   ]
  },
  {
   "cell_type": "code",
   "execution_count": null,
   "id": "4bedcaa2",
   "metadata": {},
   "outputs": [],
   "source": []
  },
  {
   "cell_type": "code",
   "execution_count": 14,
   "id": "bc5ba1d4",
   "metadata": {},
   "outputs": [
    {
     "data": {
      "text/html": [
       "<div>\n",
       "<style scoped>\n",
       "    .dataframe tbody tr th:only-of-type {\n",
       "        vertical-align: middle;\n",
       "    }\n",
       "\n",
       "    .dataframe tbody tr th {\n",
       "        vertical-align: top;\n",
       "    }\n",
       "\n",
       "    .dataframe thead th {\n",
       "        text-align: right;\n",
       "    }\n",
       "</style>\n",
       "<table border=\"1\" class=\"dataframe\">\n",
       "  <thead>\n",
       "    <tr style=\"text-align: right;\">\n",
       "      <th></th>\n",
       "      <th>rule_id</th>\n",
       "      <th>size_locked_total</th>\n",
       "      <th>count_rses</th>\n",
       "      <th>other_rses</th>\n",
       "      <th>rse_name</th>\n",
       "      <th>size_locked_rse</th>\n",
       "    </tr>\n",
       "  </thead>\n",
       "  <tbody>\n",
       "    <tr>\n",
       "      <th>0</th>\n",
       "      <td>0173828e3a984bc6abca956dabb63b20</td>\n",
       "      <td>127408116390</td>\n",
       "      <td>13</td>\n",
       "      <td>[T2_FR_GRIF_LLR, T1_DE_KIT_Disk, T2_DE_DESY, T2_UK_SGrid_RALPP, T2_CH_CSCS, T2_IT_Bari, T2_IT_Rome, T1_FR_CCIN2P3_Disk, T2_UK_London_Brunel, T2_UK_London_IC, T1_UK_RAL_Disk, T2_FR_IPHC, T2_HU_Budapest]</td>\n",
       "      <td>T2_UK_SGrid_RALPP</td>\n",
       "      <td>5052303575</td>\n",
       "    </tr>\n",
       "    <tr>\n",
       "      <th>1</th>\n",
       "      <td>0173828e3a984bc6abca956dabb63b20</td>\n",
       "      <td>127408116390</td>\n",
       "      <td>13</td>\n",
       "      <td>[T2_FR_GRIF_LLR, T1_DE_KIT_Disk, T2_DE_DESY, T2_UK_SGrid_RALPP, T2_CH_CSCS, T2_IT_Bari, T2_IT_Rome, T1_FR_CCIN2P3_Disk, T2_UK_London_Brunel, T2_UK_London_IC, T1_UK_RAL_Disk, T2_FR_IPHC, T2_HU_Budapest]</td>\n",
       "      <td>T2_HU_Budapest</td>\n",
       "      <td>1727613698</td>\n",
       "    </tr>\n",
       "    <tr>\n",
       "      <th>2</th>\n",
       "      <td>0173828e3a984bc6abca956dabb63b20</td>\n",
       "      <td>127408116390</td>\n",
       "      <td>13</td>\n",
       "      <td>[T2_FR_GRIF_LLR, T1_DE_KIT_Disk, T2_DE_DESY, T2_UK_SGrid_RALPP, T2_CH_CSCS, T2_IT_Bari, T2_IT_Rome, T1_FR_CCIN2P3_Disk, T2_UK_London_Brunel, T2_UK_London_IC, T1_UK_RAL_Disk, T2_FR_IPHC, T2_HU_Budapest]</td>\n",
       "      <td>T1_UK_RAL_Disk</td>\n",
       "      <td>10930111288</td>\n",
       "    </tr>\n",
       "    <tr>\n",
       "      <th>3</th>\n",
       "      <td>0173828e3a984bc6abca956dabb63b20</td>\n",
       "      <td>127408116390</td>\n",
       "      <td>13</td>\n",
       "      <td>[T2_FR_GRIF_LLR, T1_DE_KIT_Disk, T2_DE_DESY, T2_UK_SGrid_RALPP, T2_CH_CSCS, T2_IT_Bari, T2_IT_Rome, T1_FR_CCIN2P3_Disk, T2_UK_London_Brunel, T2_UK_London_IC, T1_UK_RAL_Disk, T2_FR_IPHC, T2_HU_Budapest]</td>\n",
       "      <td>T2_UK_London_IC</td>\n",
       "      <td>39761925477</td>\n",
       "    </tr>\n",
       "    <tr>\n",
       "      <th>4</th>\n",
       "      <td>0173828e3a984bc6abca956dabb63b20</td>\n",
       "      <td>127408116390</td>\n",
       "      <td>13</td>\n",
       "      <td>[T2_FR_GRIF_LLR, T1_DE_KIT_Disk, T2_DE_DESY, T2_UK_SGrid_RALPP, T2_CH_CSCS, T2_IT_Bari, T2_IT_Rome, T1_FR_CCIN2P3_Disk, T2_UK_London_Brunel, T2_UK_London_IC, T1_UK_RAL_Disk, T2_FR_IPHC, T2_HU_Budapest]</td>\n",
       "      <td>T1_DE_KIT_Disk</td>\n",
       "      <td>9736438996</td>\n",
       "    </tr>\n",
       "    <tr>\n",
       "      <th>5</th>\n",
       "      <td>0173828e3a984bc6abca956dabb63b20</td>\n",
       "      <td>127408116390</td>\n",
       "      <td>13</td>\n",
       "      <td>[T2_FR_GRIF_LLR, T1_DE_KIT_Disk, T2_DE_DESY, T2_UK_SGrid_RALPP, T2_CH_CSCS, T2_IT_Bari, T2_IT_Rome, T1_FR_CCIN2P3_Disk, T2_UK_London_Brunel, T2_UK_London_IC, T1_UK_RAL_Disk, T2_FR_IPHC, T2_HU_Budapest]</td>\n",
       "      <td>T2_DE_DESY</td>\n",
       "      <td>14109063127</td>\n",
       "    </tr>\n",
       "    <tr>\n",
       "      <th>6</th>\n",
       "      <td>0173828e3a984bc6abca956dabb63b20</td>\n",
       "      <td>127408116390</td>\n",
       "      <td>13</td>\n",
       "      <td>[T2_FR_GRIF_LLR, T1_DE_KIT_Disk, T2_DE_DESY, T2_UK_SGrid_RALPP, T2_CH_CSCS, T2_IT_Bari, T2_IT_Rome, T1_FR_CCIN2P3_Disk, T2_UK_London_Brunel, T2_UK_London_IC, T1_UK_RAL_Disk, T2_FR_IPHC, T2_HU_Budapest]</td>\n",
       "      <td>T2_FR_GRIF_LLR</td>\n",
       "      <td>1594326162</td>\n",
       "    </tr>\n",
       "    <tr>\n",
       "      <th>7</th>\n",
       "      <td>0173828e3a984bc6abca956dabb63b20</td>\n",
       "      <td>127408116390</td>\n",
       "      <td>13</td>\n",
       "      <td>[T2_FR_GRIF_LLR, T1_DE_KIT_Disk, T2_DE_DESY, T2_UK_SGrid_RALPP, T2_CH_CSCS, T2_IT_Bari, T2_IT_Rome, T1_FR_CCIN2P3_Disk, T2_UK_London_Brunel, T2_UK_London_IC, T1_UK_RAL_Disk, T2_FR_IPHC, T2_HU_Budapest]</td>\n",
       "      <td>T2_UK_London_Brunel</td>\n",
       "      <td>1104304192</td>\n",
       "    </tr>\n",
       "    <tr>\n",
       "      <th>8</th>\n",
       "      <td>0173828e3a984bc6abca956dabb63b20</td>\n",
       "      <td>127408116390</td>\n",
       "      <td>13</td>\n",
       "      <td>[T2_FR_GRIF_LLR, T1_DE_KIT_Disk, T2_DE_DESY, T2_UK_SGrid_RALPP, T2_CH_CSCS, T2_IT_Bari, T2_IT_Rome, T1_FR_CCIN2P3_Disk, T2_UK_London_Brunel, T2_UK_London_IC, T1_UK_RAL_Disk, T2_FR_IPHC, T2_HU_Budapest]</td>\n",
       "      <td>T2_FR_IPHC</td>\n",
       "      <td>4750933842</td>\n",
       "    </tr>\n",
       "    <tr>\n",
       "      <th>9</th>\n",
       "      <td>0173828e3a984bc6abca956dabb63b20</td>\n",
       "      <td>127408116390</td>\n",
       "      <td>13</td>\n",
       "      <td>[T2_FR_GRIF_LLR, T1_DE_KIT_Disk, T2_DE_DESY, T2_UK_SGrid_RALPP, T2_CH_CSCS, T2_IT_Bari, T2_IT_Rome, T1_FR_CCIN2P3_Disk, T2_UK_London_Brunel, T2_UK_London_IC, T1_UK_RAL_Disk, T2_FR_IPHC, T2_HU_Budapest]</td>\n",
       "      <td>T2_CH_CSCS</td>\n",
       "      <td>346538697</td>\n",
       "    </tr>\n",
       "  </tbody>\n",
       "</table>\n",
       "</div>"
      ],
      "text/plain": [
       "                            rule_id  size_locked_total  count_rses  \\\n",
       "0  0173828e3a984bc6abca956dabb63b20       127408116390          13   \n",
       "1  0173828e3a984bc6abca956dabb63b20       127408116390          13   \n",
       "2  0173828e3a984bc6abca956dabb63b20       127408116390          13   \n",
       "3  0173828e3a984bc6abca956dabb63b20       127408116390          13   \n",
       "4  0173828e3a984bc6abca956dabb63b20       127408116390          13   \n",
       "5  0173828e3a984bc6abca956dabb63b20       127408116390          13   \n",
       "6  0173828e3a984bc6abca956dabb63b20       127408116390          13   \n",
       "7  0173828e3a984bc6abca956dabb63b20       127408116390          13   \n",
       "8  0173828e3a984bc6abca956dabb63b20       127408116390          13   \n",
       "9  0173828e3a984bc6abca956dabb63b20       127408116390          13   \n",
       "\n",
       "                                                                                                                                                                                                  other_rses  \\\n",
       "0  [T2_FR_GRIF_LLR, T1_DE_KIT_Disk, T2_DE_DESY, T2_UK_SGrid_RALPP, T2_CH_CSCS, T2_IT_Bari, T2_IT_Rome, T1_FR_CCIN2P3_Disk, T2_UK_London_Brunel, T2_UK_London_IC, T1_UK_RAL_Disk, T2_FR_IPHC, T2_HU_Budapest]   \n",
       "1  [T2_FR_GRIF_LLR, T1_DE_KIT_Disk, T2_DE_DESY, T2_UK_SGrid_RALPP, T2_CH_CSCS, T2_IT_Bari, T2_IT_Rome, T1_FR_CCIN2P3_Disk, T2_UK_London_Brunel, T2_UK_London_IC, T1_UK_RAL_Disk, T2_FR_IPHC, T2_HU_Budapest]   \n",
       "2  [T2_FR_GRIF_LLR, T1_DE_KIT_Disk, T2_DE_DESY, T2_UK_SGrid_RALPP, T2_CH_CSCS, T2_IT_Bari, T2_IT_Rome, T1_FR_CCIN2P3_Disk, T2_UK_London_Brunel, T2_UK_London_IC, T1_UK_RAL_Disk, T2_FR_IPHC, T2_HU_Budapest]   \n",
       "3  [T2_FR_GRIF_LLR, T1_DE_KIT_Disk, T2_DE_DESY, T2_UK_SGrid_RALPP, T2_CH_CSCS, T2_IT_Bari, T2_IT_Rome, T1_FR_CCIN2P3_Disk, T2_UK_London_Brunel, T2_UK_London_IC, T1_UK_RAL_Disk, T2_FR_IPHC, T2_HU_Budapest]   \n",
       "4  [T2_FR_GRIF_LLR, T1_DE_KIT_Disk, T2_DE_DESY, T2_UK_SGrid_RALPP, T2_CH_CSCS, T2_IT_Bari, T2_IT_Rome, T1_FR_CCIN2P3_Disk, T2_UK_London_Brunel, T2_UK_London_IC, T1_UK_RAL_Disk, T2_FR_IPHC, T2_HU_Budapest]   \n",
       "5  [T2_FR_GRIF_LLR, T1_DE_KIT_Disk, T2_DE_DESY, T2_UK_SGrid_RALPP, T2_CH_CSCS, T2_IT_Bari, T2_IT_Rome, T1_FR_CCIN2P3_Disk, T2_UK_London_Brunel, T2_UK_London_IC, T1_UK_RAL_Disk, T2_FR_IPHC, T2_HU_Budapest]   \n",
       "6  [T2_FR_GRIF_LLR, T1_DE_KIT_Disk, T2_DE_DESY, T2_UK_SGrid_RALPP, T2_CH_CSCS, T2_IT_Bari, T2_IT_Rome, T1_FR_CCIN2P3_Disk, T2_UK_London_Brunel, T2_UK_London_IC, T1_UK_RAL_Disk, T2_FR_IPHC, T2_HU_Budapest]   \n",
       "7  [T2_FR_GRIF_LLR, T1_DE_KIT_Disk, T2_DE_DESY, T2_UK_SGrid_RALPP, T2_CH_CSCS, T2_IT_Bari, T2_IT_Rome, T1_FR_CCIN2P3_Disk, T2_UK_London_Brunel, T2_UK_London_IC, T1_UK_RAL_Disk, T2_FR_IPHC, T2_HU_Budapest]   \n",
       "8  [T2_FR_GRIF_LLR, T1_DE_KIT_Disk, T2_DE_DESY, T2_UK_SGrid_RALPP, T2_CH_CSCS, T2_IT_Bari, T2_IT_Rome, T1_FR_CCIN2P3_Disk, T2_UK_London_Brunel, T2_UK_London_IC, T1_UK_RAL_Disk, T2_FR_IPHC, T2_HU_Budapest]   \n",
       "9  [T2_FR_GRIF_LLR, T1_DE_KIT_Disk, T2_DE_DESY, T2_UK_SGrid_RALPP, T2_CH_CSCS, T2_IT_Bari, T2_IT_Rome, T1_FR_CCIN2P3_Disk, T2_UK_London_Brunel, T2_UK_London_IC, T1_UK_RAL_Disk, T2_FR_IPHC, T2_HU_Budapest]   \n",
       "\n",
       "              rse_name  size_locked_rse  \n",
       "0    T2_UK_SGrid_RALPP       5052303575  \n",
       "1       T2_HU_Budapest       1727613698  \n",
       "2       T1_UK_RAL_Disk      10930111288  \n",
       "3      T2_UK_London_IC      39761925477  \n",
       "4       T1_DE_KIT_Disk       9736438996  \n",
       "5           T2_DE_DESY      14109063127  \n",
       "6       T2_FR_GRIF_LLR       1594326162  \n",
       "7  T2_UK_London_Brunel       1104304192  \n",
       "8           T2_FR_IPHC       4750933842  \n",
       "9           T2_CH_CSCS        346538697  "
      ]
     },
     "execution_count": 14,
     "metadata": {},
     "output_type": "execute_result"
    }
   ],
   "source": [
    "df_rule_agg_info.filter(col(\"count_rses\")>10).limit(10).toPandas()"
   ]
  },
  {
   "cell_type": "code",
   "execution_count": 15,
   "id": "c21057ab",
   "metadata": {},
   "outputs": [],
   "source": [
    "df_rule_combined = df_rule_agg_info.join(df_rules, \"rule_id\")"
   ]
  },
  {
   "cell_type": "code",
   "execution_count": 16,
   "id": "fd3bb061",
   "metadata": {},
   "outputs": [
    {
     "data": {
      "text/html": [
       "<div>\n",
       "<style scoped>\n",
       "    .dataframe tbody tr th:only-of-type {\n",
       "        vertical-align: middle;\n",
       "    }\n",
       "\n",
       "    .dataframe tbody tr th {\n",
       "        vertical-align: top;\n",
       "    }\n",
       "\n",
       "    .dataframe thead th {\n",
       "        text-align: right;\n",
       "    }\n",
       "</style>\n",
       "<table border=\"1\" class=\"dataframe\">\n",
       "  <thead>\n",
       "    <tr style=\"text-align: right;\">\n",
       "      <th></th>\n",
       "      <th>rule_id</th>\n",
       "      <th>size_locked_total</th>\n",
       "      <th>count_rses</th>\n",
       "      <th>other_rses</th>\n",
       "      <th>rse_name</th>\n",
       "      <th>size_locked_rse</th>\n",
       "      <th>account</th>\n",
       "      <th>did_type</th>\n",
       "      <th>rse_expression</th>\n",
       "      <th>copies</th>\n",
       "    </tr>\n",
       "  </thead>\n",
       "  <tbody>\n",
       "    <tr>\n",
       "      <th>0</th>\n",
       "      <td>00020c8ee75442069f4ca41075cd6361</td>\n",
       "      <td>7625918328</td>\n",
       "      <td>1</td>\n",
       "      <td>[T1_US_FNAL_Disk]</td>\n",
       "      <td>T1_US_FNAL_Disk</td>\n",
       "      <td>7625918328</td>\n",
       "      <td>transfer_ops</td>\n",
       "      <td>C</td>\n",
       "      <td>ddm_quota&gt;0&amp;rse_type=DISK&amp;country=US</td>\n",
       "      <td>1</td>\n",
       "    </tr>\n",
       "    <tr>\n",
       "      <th>1</th>\n",
       "      <td>0002243149214bd7888c5d37e3442871</td>\n",
       "      <td>633728008</td>\n",
       "      <td>1</td>\n",
       "      <td>[T0_CH_CERN_Tape]</td>\n",
       "      <td>T0_CH_CERN_Tape</td>\n",
       "      <td>633728008</td>\n",
       "      <td>sync_t0_ch_cern_tape</td>\n",
       "      <td>D</td>\n",
       "      <td>rse=T0_CH_CERN_Tape</td>\n",
       "      <td>1</td>\n",
       "    </tr>\n",
       "    <tr>\n",
       "      <th>2</th>\n",
       "      <td>00055ba22f4d491fb1b58ac6310360a5</td>\n",
       "      <td>772368</td>\n",
       "      <td>1</td>\n",
       "      <td>[T1_IT_CNAF_Tape]</td>\n",
       "      <td>T1_IT_CNAF_Tape</td>\n",
       "      <td>772368</td>\n",
       "      <td>sync_t1_it_cnaf_tape</td>\n",
       "      <td>D</td>\n",
       "      <td>rse=T1_IT_CNAF_Tape</td>\n",
       "      <td>1</td>\n",
       "    </tr>\n",
       "    <tr>\n",
       "      <th>3</th>\n",
       "      <td>00062def5e194202847bd7e18a6f2e15</td>\n",
       "      <td>1818274926</td>\n",
       "      <td>1</td>\n",
       "      <td>[T1_US_FNAL_Tape]</td>\n",
       "      <td>T1_US_FNAL_Tape</td>\n",
       "      <td>1818274926</td>\n",
       "      <td>sync_t1_us_fnal_tape</td>\n",
       "      <td>D</td>\n",
       "      <td>rse=T1_US_FNAL_Tape</td>\n",
       "      <td>1</td>\n",
       "    </tr>\n",
       "    <tr>\n",
       "      <th>4</th>\n",
       "      <td>000aedb86a8c4292b2229988891d54e5</td>\n",
       "      <td>16106916597</td>\n",
       "      <td>1</td>\n",
       "      <td>[T0_CH_CERN_Tape]</td>\n",
       "      <td>T0_CH_CERN_Tape</td>\n",
       "      <td>16106916597</td>\n",
       "      <td>sync_t0_ch_cern_tape</td>\n",
       "      <td>D</td>\n",
       "      <td>rse=T0_CH_CERN_Tape</td>\n",
       "      <td>1</td>\n",
       "    </tr>\n",
       "    <tr>\n",
       "      <th>5</th>\n",
       "      <td>000d2984f99242b5a48b884c305fdbd0</td>\n",
       "      <td>2917284657</td>\n",
       "      <td>1</td>\n",
       "      <td>[T1_UK_RAL_Tape]</td>\n",
       "      <td>T1_UK_RAL_Tape</td>\n",
       "      <td>2917284657</td>\n",
       "      <td>sync_t1_uk_ral_tape</td>\n",
       "      <td>D</td>\n",
       "      <td>rse=T1_UK_RAL_Tape</td>\n",
       "      <td>1</td>\n",
       "    </tr>\n",
       "    <tr>\n",
       "      <th>6</th>\n",
       "      <td>000d8d2265a44e11b90e14af350db130</td>\n",
       "      <td>51222423302</td>\n",
       "      <td>1</td>\n",
       "      <td>[T1_DE_KIT_Tape]</td>\n",
       "      <td>T1_DE_KIT_Tape</td>\n",
       "      <td>51222423302</td>\n",
       "      <td>sync_t1_de_kit_tape</td>\n",
       "      <td>D</td>\n",
       "      <td>rse=T1_DE_KIT_Tape</td>\n",
       "      <td>1</td>\n",
       "    </tr>\n",
       "    <tr>\n",
       "      <th>7</th>\n",
       "      <td>00106e9392ea4ec28e4d0304263a756e</td>\n",
       "      <td>9842718643</td>\n",
       "      <td>1</td>\n",
       "      <td>[T1_ES_PIC_Tape]</td>\n",
       "      <td>T1_ES_PIC_Tape</td>\n",
       "      <td>9842718643</td>\n",
       "      <td>sync_t1_es_pic_tape</td>\n",
       "      <td>D</td>\n",
       "      <td>rse=T1_ES_PIC_Tape</td>\n",
       "      <td>1</td>\n",
       "    </tr>\n",
       "    <tr>\n",
       "      <th>8</th>\n",
       "      <td>0010ea0f9f57478baaac1ab1e90cab95</td>\n",
       "      <td>370126718</td>\n",
       "      <td>1</td>\n",
       "      <td>[T0_CH_CERN_Tape]</td>\n",
       "      <td>T0_CH_CERN_Tape</td>\n",
       "      <td>370126718</td>\n",
       "      <td>sync_t0_ch_cern_tape</td>\n",
       "      <td>D</td>\n",
       "      <td>rse=T0_CH_CERN_Tape</td>\n",
       "      <td>1</td>\n",
       "    </tr>\n",
       "    <tr>\n",
       "      <th>9</th>\n",
       "      <td>0011a735dcba4600bfd35414be7228d7</td>\n",
       "      <td>175390716</td>\n",
       "      <td>1</td>\n",
       "      <td>[T1_IT_CNAF_Disk]</td>\n",
       "      <td>T1_IT_CNAF_Disk</td>\n",
       "      <td>175390716</td>\n",
       "      <td>transfer_ops</td>\n",
       "      <td>C</td>\n",
       "      <td>region=C&amp;cms_type=real</td>\n",
       "      <td>1</td>\n",
       "    </tr>\n",
       "  </tbody>\n",
       "</table>\n",
       "</div>"
      ],
      "text/plain": [
       "                            rule_id  size_locked_total  count_rses  \\\n",
       "0  00020c8ee75442069f4ca41075cd6361         7625918328           1   \n",
       "1  0002243149214bd7888c5d37e3442871          633728008           1   \n",
       "2  00055ba22f4d491fb1b58ac6310360a5             772368           1   \n",
       "3  00062def5e194202847bd7e18a6f2e15         1818274926           1   \n",
       "4  000aedb86a8c4292b2229988891d54e5        16106916597           1   \n",
       "5  000d2984f99242b5a48b884c305fdbd0         2917284657           1   \n",
       "6  000d8d2265a44e11b90e14af350db130        51222423302           1   \n",
       "7  00106e9392ea4ec28e4d0304263a756e         9842718643           1   \n",
       "8  0010ea0f9f57478baaac1ab1e90cab95          370126718           1   \n",
       "9  0011a735dcba4600bfd35414be7228d7          175390716           1   \n",
       "\n",
       "          other_rses         rse_name  size_locked_rse               account  \\\n",
       "0  [T1_US_FNAL_Disk]  T1_US_FNAL_Disk       7625918328          transfer_ops   \n",
       "1  [T0_CH_CERN_Tape]  T0_CH_CERN_Tape        633728008  sync_t0_ch_cern_tape   \n",
       "2  [T1_IT_CNAF_Tape]  T1_IT_CNAF_Tape           772368  sync_t1_it_cnaf_tape   \n",
       "3  [T1_US_FNAL_Tape]  T1_US_FNAL_Tape       1818274926  sync_t1_us_fnal_tape   \n",
       "4  [T0_CH_CERN_Tape]  T0_CH_CERN_Tape      16106916597  sync_t0_ch_cern_tape   \n",
       "5   [T1_UK_RAL_Tape]   T1_UK_RAL_Tape       2917284657   sync_t1_uk_ral_tape   \n",
       "6   [T1_DE_KIT_Tape]   T1_DE_KIT_Tape      51222423302   sync_t1_de_kit_tape   \n",
       "7   [T1_ES_PIC_Tape]   T1_ES_PIC_Tape       9842718643   sync_t1_es_pic_tape   \n",
       "8  [T0_CH_CERN_Tape]  T0_CH_CERN_Tape        370126718  sync_t0_ch_cern_tape   \n",
       "9  [T1_IT_CNAF_Disk]  T1_IT_CNAF_Disk        175390716          transfer_ops   \n",
       "\n",
       "  did_type                        rse_expression copies  \n",
       "0        C  ddm_quota>0&rse_type=DISK&country=US      1  \n",
       "1        D                   rse=T0_CH_CERN_Tape      1  \n",
       "2        D                   rse=T1_IT_CNAF_Tape      1  \n",
       "3        D                   rse=T1_US_FNAL_Tape      1  \n",
       "4        D                   rse=T0_CH_CERN_Tape      1  \n",
       "5        D                    rse=T1_UK_RAL_Tape      1  \n",
       "6        D                    rse=T1_DE_KIT_Tape      1  \n",
       "7        D                    rse=T1_ES_PIC_Tape      1  \n",
       "8        D                   rse=T0_CH_CERN_Tape      1  \n",
       "9        C                region=C&cms_type=real      1  "
      ]
     },
     "execution_count": 16,
     "metadata": {},
     "output_type": "execute_result"
    }
   ],
   "source": [
    "df_rule_combined.limit(10).toPandas()"
   ]
  },
  {
   "cell_type": "code",
   "execution_count": 17,
   "id": "cdde8ea3",
   "metadata": {},
   "outputs": [],
   "source": [
    "# df_rule_combined.sort(col(\"count_rses\").desc()).limit(10).toPandas()"
   ]
  },
  {
   "cell_type": "code",
   "execution_count": 18,
   "id": "680c5b14",
   "metadata": {},
   "outputs": [],
   "source": [
    "# df_rule_combined.write.format(\"parquet\").save(\"rule_combined3.parquet\")"
   ]
  },
  {
   "cell_type": "code",
   "execution_count": 19,
   "id": "473bdf85",
   "metadata": {},
   "outputs": [],
   "source": [
    "# df_rule_combined2 = spark.read.format('parquet').load(\"rule_combined2.parquet\")\n",
    "# df_rule_combined2.write.format(\"com.mongodb.spark.sql.DefaultSource\").option(\"ordered\", \"false\").option(\"database\", \"rchauhan\").option(\"collection\", \"rule_summary2\").save()"
   ]
  },
  {
   "cell_type": "code",
   "execution_count": 20,
   "id": "aff3f011",
   "metadata": {},
   "outputs": [],
   "source": [
    "# df_rule_combined.write.format(\"com.mongodb.spark.sql.DefaultSource\").option(\"ordered\", \"false\").option(\"database\", \"rchauhan\").option(\"collection\", \"rule_summary3\").save()"
   ]
  },
  {
   "cell_type": "code",
   "execution_count": null,
   "id": "f7b62c47",
   "metadata": {},
   "outputs": [],
   "source": []
  },
  {
   "cell_type": "code",
   "execution_count": null,
   "id": "7720d0c6",
   "metadata": {},
   "outputs": [],
   "source": []
  },
  {
   "cell_type": "code",
   "execution_count": null,
   "id": "3d4fd2b3",
   "metadata": {},
   "outputs": [],
   "source": []
  },
  {
   "cell_type": "code",
   "execution_count": null,
   "id": "cc4e43b0",
   "metadata": {},
   "outputs": [],
   "source": []
  },
  {
   "cell_type": "code",
   "execution_count": null,
   "id": "75cdac94",
   "metadata": {},
   "outputs": [],
   "source": []
  },
  {
   "cell_type": "code",
   "execution_count": null,
   "id": "c3633125",
   "metadata": {},
   "outputs": [],
   "source": []
  },
  {
   "cell_type": "code",
   "execution_count": null,
   "id": "806011b9",
   "metadata": {},
   "outputs": [],
   "source": []
  },
  {
   "cell_type": "code",
   "execution_count": null,
   "id": "6011b1ca",
   "metadata": {},
   "outputs": [],
   "source": []
  },
  {
   "cell_type": "code",
   "execution_count": null,
   "id": "8c188693",
   "metadata": {},
   "outputs": [],
   "source": []
  },
  {
   "cell_type": "code",
   "execution_count": null,
   "id": "19d43f8b",
   "metadata": {},
   "outputs": [],
   "source": []
  },
  {
   "cell_type": "code",
   "execution_count": null,
   "id": "e74eaa11",
   "metadata": {},
   "outputs": [],
   "source": []
  },
  {
   "cell_type": "code",
   "execution_count": null,
   "id": "17c10002",
   "metadata": {},
   "outputs": [],
   "source": []
  },
  {
   "cell_type": "markdown",
   "id": "db761798",
   "metadata": {},
   "source": [
    "# Parent Table\n",
    "\n",
    "#### Datasets at RSEs with set of rules that bind them there! "
   ]
  },
  {
   "cell_type": "code",
   "execution_count": 21,
   "id": "184ce88b",
   "metadata": {},
   "outputs": [],
   "source": [
    "#Right join is same as inner join - all files in locks are available in the map\n",
    "#We re-evaluate the datatier of a dataset here, so that a dataset does ierrorneously map to different datatiers because a file belonging to it is also present in other datasets - Unknown and CONTAINER\n",
    "df_filtered = df_map.alias(\"map\").join(df_locks.alias(\"lock\"), col(\"map.file\")==col(\"lock.file_name\"), \"right\")\\\n",
    "    .na.fill({\"dataset\":\"/UnknownBlock\", \"block\":\"/UnknownBlock#unknown\", \"data_tier\":\"UnknownBlock\"})\\\n",
    "    .filter(col(\"data_tier\").isin([\"UnknownBlock\", \"UnknownDataset\"])==False)\\\n",
    "    .join(df_rses.alias(\"rse\"), col(\"lock.rse_id\")==col(\"rse.rse_id\"))\\\n",
    "    .select([\"dataset\", \"rse_name\", \"data_tier\", \"file_name\", \"file_size\", \"block\", \"rule_id\", \"account\"])\\\n",
    "    .groupby([\"dataset\", \"rse_name\", \"data_tier\"]).agg(func.countDistinct(\"file_name\").alias(\"file_count\"), \n",
    "                                                     func.count(\"file_name\").alias(\"total_file_locks_count\"),\n",
    "                                                     func.sum(\"file_size\").alias(\"file_sum\"),\n",
    "                                                     func.countDistinct(\"block\").alias(\"block_count\"),\n",
    "                                                     func.countDistinct(\"rule_id\").alias(\"ruleid_count\"),\n",
    "                                                     collect_set(\"rule_id\").alias(\"ruleid_set\"),\n",
    "                                                     func.countDistinct(\"account\").alias(\"account_count\"),\n",
    "                                                     collect_set(\"account\").alias(\"account_set\"),\n",
    "        )\n",
    "\n",
    "\n",
    "# .withColumn(\"data_tier\", func.element_at(func.split(\"dataset\",\"/\"),-1))\\"
   ]
  },
  {
   "cell_type": "code",
   "execution_count": 22,
   "id": "f273223c",
   "metadata": {},
   "outputs": [],
   "source": [
    "# df_joined =  df_filtered_saved.groupby([\"dataset\", \"rse_id\", \"data_tier\"]).agg(func.countDistinct(\"file_name\").alias(\"distinct_file_count\"), func.count(\"file_name\").alias(\"file_count\"), func.sum(\"file_size\").alias(\"file_sum\"),\n",
    "#          func.countDistinct(\"rule_id\").alias(\"distinct_ruleid_count\"), collect_set(\"rule_id\").alias(\"ruleid_set\"),\n",
    "#          func.countDistinct(\"account\").alias(\"distinct_account_count\"), collect_set(\"account\").alias(\"account_set\"),\n",
    "#         )"
   ]
  },
  {
   "cell_type": "code",
   "execution_count": 23,
   "id": "bc996811",
   "metadata": {},
   "outputs": [],
   "source": [
    "# df_grouped = df_joined.groupby([\"dataset\", \"rse_id\", \"data_tier\"])\\\n",
    "#                      .agg(func.countDistinct(\"file_name\").alias(\"distinct_file_count\"), func.count(\"file_name\").alias(\"file_count\"), func.sum(\"file_size\").alias(\"file_sum\"),\n",
    "#                           func.countDistinct(\"rule_id\").alias(\"distinct_ruleid_count\"), collect_set(\"rule_id\").alias(\"ruleid_set\"),\n",
    "#                           func.countDistinct(\"account\").alias(\"distinct_account_count\"), collect_set(\"account\").alias(\"account_set\"),\n",
    "#                          )\\\n",
    "#                      .persist()\n",
    "\n",
    "#   func.countDistinct(\"data_tier\").alias(\"distinct_datatier_count\"), collect_set(\"data_tier\").alias(\"datatier_set\"),"
   ]
  },
  {
   "cell_type": "code",
   "execution_count": null,
   "id": "b5af5499",
   "metadata": {},
   "outputs": [],
   "source": []
  },
  {
   "cell_type": "code",
   "execution_count": null,
   "id": "d712f0c5",
   "metadata": {},
   "outputs": [],
   "source": []
  },
  {
   "cell_type": "code",
   "execution_count": null,
   "id": "8bb63463",
   "metadata": {},
   "outputs": [],
   "source": []
  },
  {
   "cell_type": "code",
   "execution_count": 24,
   "id": "6b69c746",
   "metadata": {},
   "outputs": [],
   "source": [
    "# df_filtered.write.format(\"avro\").save(\"dataset-rule.avro\")\n",
    "# df_filtered_saved = spark.read.format('avro').load(\"dataset-rule.avro\")"
   ]
  },
  {
   "cell_type": "code",
   "execution_count": 25,
   "id": "b1133d69",
   "metadata": {},
   "outputs": [],
   "source": [
    "# df_filtered_saved.write.format(\"json\").save(\"dataset-rule.json\")"
   ]
  },
  {
   "cell_type": "code",
   "execution_count": 27,
   "id": "4606331a",
   "metadata": {},
   "outputs": [],
   "source": [
    "# df = df_filtered_saved"
   ]
  },
  {
   "cell_type": "code",
   "execution_count": 28,
   "id": "c8a14c6d",
   "metadata": {},
   "outputs": [],
   "source": [
    "mydataset=\"/QCD_Pt-15to7000_TuneCP5_Flat_14TeV-pythia8/Phase2HLTTDRWinter20DIGI-FlatPU0To200_castor_110X_mcRun4_realistic_v3_ext1-v1/GEN-SIM-DIGI-RAW\"\n",
    "mydataset=\"/EGamma/Run2018A-v1/RAW\"\n",
    "mydataset=\"/ExpressCosmics/Commissioning2021-Express-v1/FEVT\""
   ]
  },
  {
   "cell_type": "code",
   "execution_count": 29,
   "id": "b0c3ae23",
   "metadata": {},
   "outputs": [],
   "source": [
    "\n",
    "# df.filter(col(\"dataset\")==mydataset).toPandas()"
   ]
  },
  {
   "cell_type": "code",
   "execution_count": 30,
   "id": "8696f1e5",
   "metadata": {},
   "outputs": [
    {
     "data": {
      "text/html": [
       "\n",
       "            <div>\n",
       "                <p><b>SparkSession - in-memory</b></p>\n",
       "                \n",
       "        <div>\n",
       "            <p><b>SparkContext</b></p>\n",
       "\n",
       "            <p><a href=\"http://swan-2xlarge-g726ayn2gv4u-node-15:30860\">Spark UI</a></p>\n",
       "\n",
       "            <dl>\n",
       "              <dt>Version</dt>\n",
       "                <dd><code>v3.2.1</code></dd>\n",
       "              <dt>Master</dt>\n",
       "                <dd><code>yarn</code></dd>\n",
       "              <dt>AppName</dt>\n",
       "                <dd><code>pyspark_shell_swan</code></dd>\n",
       "            </dl>\n",
       "        </div>\n",
       "        \n",
       "            </div>\n",
       "        "
      ],
      "text/plain": [
       "<pyspark.sql.session.SparkSession at 0x7f21e7cb5640>"
      ]
     },
     "execution_count": 30,
     "metadata": {},
     "output_type": "execute_result"
    }
   ],
   "source": [
    "spark"
   ]
  },
  {
   "cell_type": "code",
   "execution_count": 31,
   "id": "54cbdbf2",
   "metadata": {},
   "outputs": [],
   "source": [
    "# df_grouped_saved.filter(col(\"dataset\").contains(\"Unknown\")).toPandas().sort_values(\"file_sum\")"
   ]
  },
  {
   "cell_type": "code",
   "execution_count": 32,
   "id": "1bc56e98",
   "metadata": {},
   "outputs": [],
   "source": [
    "# df.write.format(\"com.mongodb.spark.sql.DefaultSource\").option(\"ordered\", \"false\").option(\"database\", \"rchauhan\").option(\"collection\", \"dataset-rule-connector\").save()\n",
    "\n",
    "# # !hdfs dfs -rm -R -f grouped.parquet"
   ]
  },
  {
   "cell_type": "code",
   "execution_count": null,
   "id": "cfd8ac65",
   "metadata": {},
   "outputs": [],
   "source": []
  },
  {
   "cell_type": "code",
   "execution_count": null,
   "id": "d01bf3a4",
   "metadata": {},
   "outputs": [],
   "source": []
  },
  {
   "cell_type": "code",
   "execution_count": null,
   "id": "2e39240c",
   "metadata": {},
   "outputs": [],
   "source": []
  },
  {
   "cell_type": "markdown",
   "id": "541ca549",
   "metadata": {},
   "source": [
    "# Sanity Checks\n",
    "\n"
   ]
  },
  {
   "cell_type": "markdown",
   "id": "ba7301d2",
   "metadata": {},
   "source": [
    "### Unique and total file counts"
   ]
  },
  {
   "cell_type": "code",
   "execution_count": 33,
   "id": "7788dd8f",
   "metadata": {},
   "outputs": [],
   "source": [
    "#Sanity checks\n",
    "#The number of files in Container-File Map should be greater than (accounting for files belonging to multiple datasets) or equal to total entries of file in the contents table\n",
    "df_contents = get_df_contents(spark)\n",
    "# df_contents.filter(col(\"child_type\")=='F').count()"
   ]
  },
  {
   "cell_type": "code",
   "execution_count": 34,
   "id": "a008bc9b",
   "metadata": {},
   "outputs": [
    {
     "name": "stdout",
     "output_type": "stream",
     "text": [
      "map_file_count=76930490, contents_file_count=76931233\n"
     ]
    }
   ],
   "source": [
    "#Comparing the unique counts of files in contents and map table\n",
    "map_file_count = df_map.select([\"file\"]).distinct().count()\n",
    "contents_file_count = df_contents.filter(col(\"child_type\")=='F').select([\"child_name\"]).distinct().count()\n",
    "print(f\"{map_file_count=}, {contents_file_count=}\")"
   ]
  },
  {
   "cell_type": "markdown",
   "id": "034b0577",
   "metadata": {},
   "source": [
    "### Unknown and CONTAINER data_tier sources"
   ]
  },
  {
   "cell_type": "code",
   "execution_count": 35,
   "id": "80d1564b",
   "metadata": {},
   "outputs": [],
   "source": [
    "#Sanity Check\n",
    "res = df_map.groupby(\"file\").agg(func.count(\"data_tier\"), collect_list(\"data_tier\"), collect_list(\"dataset\"), collect_list(\"block\"))\n"
   ]
  },
  {
   "cell_type": "code",
   "execution_count": 36,
   "id": "96d73c5b",
   "metadata": {},
   "outputs": [
    {
     "data": {
      "text/plain": [
       "0"
      ]
     },
     "execution_count": 36,
     "metadata": {},
     "output_type": "execute_result"
    }
   ],
   "source": [
    "#Are there any other multimaps after removing campaign and challenge specific collections\n",
    "#Nope\n",
    "res.filter(col(\"count(data_tier)\") > 1).count()"
   ]
  },
  {
   "cell_type": "code",
   "execution_count": 37,
   "id": "af55b0d8",
   "metadata": {},
   "outputs": [
    {
     "data": {
      "text/html": [
       "<div>\n",
       "<style scoped>\n",
       "    .dataframe tbody tr th:only-of-type {\n",
       "        vertical-align: middle;\n",
       "    }\n",
       "\n",
       "    .dataframe tbody tr th {\n",
       "        vertical-align: top;\n",
       "    }\n",
       "\n",
       "    .dataframe thead th {\n",
       "        text-align: right;\n",
       "    }\n",
       "</style>\n",
       "<table border=\"1\" class=\"dataframe\">\n",
       "  <thead>\n",
       "    <tr style=\"text-align: right;\">\n",
       "      <th></th>\n",
       "      <th>file</th>\n",
       "      <th>count(data_tier)</th>\n",
       "      <th>collect_list(data_tier)</th>\n",
       "      <th>collect_list(dataset)</th>\n",
       "      <th>collect_list(block)</th>\n",
       "    </tr>\n",
       "  </thead>\n",
       "  <tbody>\n",
       "  </tbody>\n",
       "</table>\n",
       "</div>"
      ],
      "text/plain": [
       "Empty DataFrame\n",
       "Columns: [file, count(data_tier), collect_list(data_tier), collect_list(dataset), collect_list(block)]\n",
       "Index: []"
      ]
     },
     "execution_count": 37,
     "metadata": {},
     "output_type": "execute_result"
    }
   ],
   "source": [
    "#Checking if files with multiple maps are only because of CONTAINER data_tier - which are a part of Tests and Challenges etc\n",
    "#Cheking if files with multiple maps are only in Unknown \n",
    "res.filter(col(\"count(data_tier)\") > 1)\\\n",
    "   .filter(func.array_contains(\"collect_list(data_tier)\",\"CONTAINER\")==False)\\\n",
    "   .filter(func.array_contains(\"collect_list(data_tier)\",\"Unknown\")==False)\\\n",
    "   .limit(10).toPandas()"
   ]
  },
  {
   "cell_type": "code",
   "execution_count": 38,
   "id": "2b90162f",
   "metadata": {},
   "outputs": [
    {
     "data": {
      "text/plain": [
       "0"
      ]
     },
     "execution_count": 38,
     "metadata": {},
     "output_type": "execute_result"
    }
   ],
   "source": [
    "#collecting list of datasets and containers created for deletion campaings and data transfer challenges\n",
    "challenge_datasets = df_contents.select([\"name\"]).filter(col(\"name\").contains(\"DATASET\")).distinct().collect()\n",
    "challenge_containers = df_contents.select([\"name\"]).filter(col(\"did_type\")=='C').filter(col(\"name\").contains(\"/CONTAINER\")).distinct().collect()\n",
    "\n",
    "#check if there are Unknown block-file map other than TapeDeletionCampaign\n",
    "res.filter(col(\"count(data_tier)\") > 1)\\\n",
    "   .filter(func.array_contains(\"collect_list(data_tier)\",\"CONTAINER\")==False)\\\n",
    "   .filter(func.array_contains(\"collect_list(block)\",\"/Test/TapeDeletionCampaign_Fall2021_FNAL_Lock/CONTAINER#DATASET\")==False)\\\n",
    "   .filter(func.array_contains(\"collect_list(block)\",\"/Test/TapeDeletionCampaign_Fall2021_PIC_Lock/CONTAINER#DATASET\")==False)\\\n",
    "   .filter(func.array_contains(\"collect_list(block)\",\"/Test/TapeDeletionCampaign_Fall2021_CCIN2P3_Lock/CONTAINER#DATASET2\")==False)\\\n",
    "   .filter(func.array_contains(\"collect_list(block)\",\"/Test/TapeDeletionCampaign_Fall2021_CNAF_Lock/CONTAINER#DATASET2\")==False)\\\n",
    "   .filter(func.array_contains(\"collect_list(block)\",\"/Test/TapeDeletionCampaign_Fall2021_PIC_Lock/CONTAINER#DATASET2\")==False)\\\n",
    "   .count()"
   ]
  },
  {
   "cell_type": "code",
   "execution_count": null,
   "id": "be62cde8",
   "metadata": {},
   "outputs": [],
   "source": []
  },
  {
   "cell_type": "code",
   "execution_count": null,
   "id": "ba4145cb",
   "metadata": {},
   "outputs": [],
   "source": []
  }
 ],
 "metadata": {
  "kernelspec": {
   "display_name": "Python 3",
   "language": "python",
   "name": "python3"
  },
  "language_info": {
   "codemirror_mode": {
    "name": "ipython",
    "version": 3
   },
   "file_extension": ".py",
   "mimetype": "text/x-python",
   "name": "python",
   "nbconvert_exporter": "python",
   "pygments_lexer": "ipython3",
   "version": "3.9.12"
  },
  "sparkconnect": {
   "bundled_options": [],
   "list_of_options": [
    {
     "name": "spark.jars.packages",
     "value": "org.apache.spark:spark-avro_2.12:3.2.1"
    },
    {
     "name": "spark.executor.memory",
     "value": "16g"
    }
   ]
  }
 },
 "nbformat": 4,
 "nbformat_minor": 5
}
